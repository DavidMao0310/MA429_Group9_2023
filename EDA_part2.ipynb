{
 "cells": [
  {
   "cell_type": "code",
   "execution_count": 21,
   "metadata": {
    "collapsed": true
   },
   "outputs": [],
   "source": [
    "import pandas as pd\n",
    "import numpy as np\n",
    "import matplotlib.pyplot as plt\n",
    "import seaborn as sns\n",
    "import plotly.express as px"
   ]
  },
  {
   "cell_type": "code",
   "execution_count": 31,
   "outputs": [
    {
     "data": {
      "text/plain": "       days_to_depart  flight_day_of_week startingAirport destinationAirport  \\\n0                  44                   3             LAX                ORD   \n1                  44                   3             LAX                ORD   \n2                  44                   3             LAX                ORD   \n3                  44                   3             LAX                ORD   \n4                  44                   3             LAX                ORD   \n...               ...                 ...             ...                ...   \n88784              53                   5             ATL                ORD   \n88785              53                   5             ATL                ORD   \n88786              53                   5             ATL                ORD   \n88787              53                   5             ATL                ORD   \n88788              53                   5             ATL                ORD   \n\n       stops          route  class airline  travelDuration_h  elapsedDays  \\\n0          1  LAX->DFW->ORD  coach      NK          9.983333            1   \n1          0       LAX->ORD  coach      NK          4.050000            0   \n2          0       LAX->ORD  coach      NK          4.066667            0   \n3          1  LAX->LAS->ORD  coach      NK          5.800000            1   \n4          1  LAX->LAS->ORD  coach      NK          6.800000            1   \n...      ...            ...    ...     ...               ...          ...   \n88784      1  ATL->DCA->ORD  coach      AA          5.783333            0   \n88785      1  ATL->DFW->ORD  coach      AA          5.850000            0   \n88786      1  ATL->JFK->ORD  coach      B6          7.116667            0   \n88787      0       ATL->ORD  coach      DL          2.233333            0   \n88788      1  ATL->DTW->ORD  coach      DL          3.850000            0   \n\n       isBasicEconomy  isRefundable  isNonStop  seatsRemaining  \\\n0               False         False      False               0   \n1               False         False       True               0   \n2               False         False       True               0   \n3               False         False      False               0   \n4               False         False      False               0   \n...               ...           ...        ...             ...   \n88784           False         False      False               7   \n88785           False         False      False               7   \n88786           False         False      False               7   \n88787           False         False       True               9   \n88788           False         False      False               9   \n\n       totalTravelDistance  total_waiting_time  travel_dist_not_available  \\\n0                   2037.0                4.37                       True   \n1                   1745.0                0.00                       True   \n2                   1745.0                0.00                       True   \n3                   1753.0                0.92                       True   \n4                   1753.0                1.92                       True   \n...                    ...                 ...                        ...   \n88784               1135.0                1.67                      False   \n88785               1524.0                1.02                      False   \n88786               1492.0                1.85                      False   \n88787                600.0                0.00                      False   \n88788                844.0                0.57                      False   \n\n       baseFare  totalFare  \n0         21.11      91.29  \n1         43.00      99.89  \n2         43.00      99.89  \n3         33.00     103.18  \n4         33.00     103.18  \n...         ...        ...  \n88784    175.81     213.20  \n88785    175.81     213.20  \n88786    202.79     242.20  \n88787    226.98     258.90  \n88788    226.98     268.20  \n\n[88789 rows x 19 columns]",
      "text/html": "<div>\n<style scoped>\n    .dataframe tbody tr th:only-of-type {\n        vertical-align: middle;\n    }\n\n    .dataframe tbody tr th {\n        vertical-align: top;\n    }\n\n    .dataframe thead th {\n        text-align: right;\n    }\n</style>\n<table border=\"1\" class=\"dataframe\">\n  <thead>\n    <tr style=\"text-align: right;\">\n      <th></th>\n      <th>days_to_depart</th>\n      <th>flight_day_of_week</th>\n      <th>startingAirport</th>\n      <th>destinationAirport</th>\n      <th>stops</th>\n      <th>route</th>\n      <th>class</th>\n      <th>airline</th>\n      <th>travelDuration_h</th>\n      <th>elapsedDays</th>\n      <th>isBasicEconomy</th>\n      <th>isRefundable</th>\n      <th>isNonStop</th>\n      <th>seatsRemaining</th>\n      <th>totalTravelDistance</th>\n      <th>total_waiting_time</th>\n      <th>travel_dist_not_available</th>\n      <th>baseFare</th>\n      <th>totalFare</th>\n    </tr>\n  </thead>\n  <tbody>\n    <tr>\n      <th>0</th>\n      <td>44</td>\n      <td>3</td>\n      <td>LAX</td>\n      <td>ORD</td>\n      <td>1</td>\n      <td>LAX-&gt;DFW-&gt;ORD</td>\n      <td>coach</td>\n      <td>NK</td>\n      <td>9.983333</td>\n      <td>1</td>\n      <td>False</td>\n      <td>False</td>\n      <td>False</td>\n      <td>0</td>\n      <td>2037.0</td>\n      <td>4.37</td>\n      <td>True</td>\n      <td>21.11</td>\n      <td>91.29</td>\n    </tr>\n    <tr>\n      <th>1</th>\n      <td>44</td>\n      <td>3</td>\n      <td>LAX</td>\n      <td>ORD</td>\n      <td>0</td>\n      <td>LAX-&gt;ORD</td>\n      <td>coach</td>\n      <td>NK</td>\n      <td>4.050000</td>\n      <td>0</td>\n      <td>False</td>\n      <td>False</td>\n      <td>True</td>\n      <td>0</td>\n      <td>1745.0</td>\n      <td>0.00</td>\n      <td>True</td>\n      <td>43.00</td>\n      <td>99.89</td>\n    </tr>\n    <tr>\n      <th>2</th>\n      <td>44</td>\n      <td>3</td>\n      <td>LAX</td>\n      <td>ORD</td>\n      <td>0</td>\n      <td>LAX-&gt;ORD</td>\n      <td>coach</td>\n      <td>NK</td>\n      <td>4.066667</td>\n      <td>0</td>\n      <td>False</td>\n      <td>False</td>\n      <td>True</td>\n      <td>0</td>\n      <td>1745.0</td>\n      <td>0.00</td>\n      <td>True</td>\n      <td>43.00</td>\n      <td>99.89</td>\n    </tr>\n    <tr>\n      <th>3</th>\n      <td>44</td>\n      <td>3</td>\n      <td>LAX</td>\n      <td>ORD</td>\n      <td>1</td>\n      <td>LAX-&gt;LAS-&gt;ORD</td>\n      <td>coach</td>\n      <td>NK</td>\n      <td>5.800000</td>\n      <td>1</td>\n      <td>False</td>\n      <td>False</td>\n      <td>False</td>\n      <td>0</td>\n      <td>1753.0</td>\n      <td>0.92</td>\n      <td>True</td>\n      <td>33.00</td>\n      <td>103.18</td>\n    </tr>\n    <tr>\n      <th>4</th>\n      <td>44</td>\n      <td>3</td>\n      <td>LAX</td>\n      <td>ORD</td>\n      <td>1</td>\n      <td>LAX-&gt;LAS-&gt;ORD</td>\n      <td>coach</td>\n      <td>NK</td>\n      <td>6.800000</td>\n      <td>1</td>\n      <td>False</td>\n      <td>False</td>\n      <td>False</td>\n      <td>0</td>\n      <td>1753.0</td>\n      <td>1.92</td>\n      <td>True</td>\n      <td>33.00</td>\n      <td>103.18</td>\n    </tr>\n    <tr>\n      <th>...</th>\n      <td>...</td>\n      <td>...</td>\n      <td>...</td>\n      <td>...</td>\n      <td>...</td>\n      <td>...</td>\n      <td>...</td>\n      <td>...</td>\n      <td>...</td>\n      <td>...</td>\n      <td>...</td>\n      <td>...</td>\n      <td>...</td>\n      <td>...</td>\n      <td>...</td>\n      <td>...</td>\n      <td>...</td>\n      <td>...</td>\n      <td>...</td>\n    </tr>\n    <tr>\n      <th>88784</th>\n      <td>53</td>\n      <td>5</td>\n      <td>ATL</td>\n      <td>ORD</td>\n      <td>1</td>\n      <td>ATL-&gt;DCA-&gt;ORD</td>\n      <td>coach</td>\n      <td>AA</td>\n      <td>5.783333</td>\n      <td>0</td>\n      <td>False</td>\n      <td>False</td>\n      <td>False</td>\n      <td>7</td>\n      <td>1135.0</td>\n      <td>1.67</td>\n      <td>False</td>\n      <td>175.81</td>\n      <td>213.20</td>\n    </tr>\n    <tr>\n      <th>88785</th>\n      <td>53</td>\n      <td>5</td>\n      <td>ATL</td>\n      <td>ORD</td>\n      <td>1</td>\n      <td>ATL-&gt;DFW-&gt;ORD</td>\n      <td>coach</td>\n      <td>AA</td>\n      <td>5.850000</td>\n      <td>0</td>\n      <td>False</td>\n      <td>False</td>\n      <td>False</td>\n      <td>7</td>\n      <td>1524.0</td>\n      <td>1.02</td>\n      <td>False</td>\n      <td>175.81</td>\n      <td>213.20</td>\n    </tr>\n    <tr>\n      <th>88786</th>\n      <td>53</td>\n      <td>5</td>\n      <td>ATL</td>\n      <td>ORD</td>\n      <td>1</td>\n      <td>ATL-&gt;JFK-&gt;ORD</td>\n      <td>coach</td>\n      <td>B6</td>\n      <td>7.116667</td>\n      <td>0</td>\n      <td>False</td>\n      <td>False</td>\n      <td>False</td>\n      <td>7</td>\n      <td>1492.0</td>\n      <td>1.85</td>\n      <td>False</td>\n      <td>202.79</td>\n      <td>242.20</td>\n    </tr>\n    <tr>\n      <th>88787</th>\n      <td>53</td>\n      <td>5</td>\n      <td>ATL</td>\n      <td>ORD</td>\n      <td>0</td>\n      <td>ATL-&gt;ORD</td>\n      <td>coach</td>\n      <td>DL</td>\n      <td>2.233333</td>\n      <td>0</td>\n      <td>False</td>\n      <td>False</td>\n      <td>True</td>\n      <td>9</td>\n      <td>600.0</td>\n      <td>0.00</td>\n      <td>False</td>\n      <td>226.98</td>\n      <td>258.90</td>\n    </tr>\n    <tr>\n      <th>88788</th>\n      <td>53</td>\n      <td>5</td>\n      <td>ATL</td>\n      <td>ORD</td>\n      <td>1</td>\n      <td>ATL-&gt;DTW-&gt;ORD</td>\n      <td>coach</td>\n      <td>DL</td>\n      <td>3.850000</td>\n      <td>0</td>\n      <td>False</td>\n      <td>False</td>\n      <td>False</td>\n      <td>9</td>\n      <td>844.0</td>\n      <td>0.57</td>\n      <td>False</td>\n      <td>226.98</td>\n      <td>268.20</td>\n    </tr>\n  </tbody>\n</table>\n<p>88789 rows × 19 columns</p>\n</div>"
     },
     "execution_count": 31,
     "metadata": {},
     "output_type": "execute_result"
    }
   ],
   "source": [
    "data = pd.read_csv('data/filtered_data.csv')\n",
    "data"
   ],
   "metadata": {
    "collapsed": false
   }
  },
  {
   "cell_type": "code",
   "execution_count": 32,
   "outputs": [],
   "source": [
    "data[['isBasicEconomy', 'isRefundable', 'isNonStop','travel_dist_not_available']]=data[['isBasicEconomy', 'isRefundable', 'isNonStop','travel_dist_not_available']].astype(int)"
   ],
   "metadata": {
    "collapsed": false
   }
  },
  {
   "cell_type": "code",
   "execution_count": 33,
   "outputs": [
    {
     "data": {
      "text/plain": "       days_to_depart  flight_day_of_week startingAirport destinationAirport  \\\n0                  44                   3             LAX                ORD   \n1                  44                   3             LAX                ORD   \n2                  44                   3             LAX                ORD   \n3                  44                   3             LAX                ORD   \n4                  44                   3             LAX                ORD   \n...               ...                 ...             ...                ...   \n88784              53                   5             ATL                ORD   \n88785              53                   5             ATL                ORD   \n88786              53                   5             ATL                ORD   \n88787              53                   5             ATL                ORD   \n88788              53                   5             ATL                ORD   \n\n       stops          route  class airline  travelDuration_h  elapsedDays  \\\n0          1  LAX->DFW->ORD  coach      NK          9.983333            1   \n1          0       LAX->ORD  coach      NK          4.050000            0   \n2          0       LAX->ORD  coach      NK          4.066667            0   \n3          1  LAX->LAS->ORD  coach      NK          5.800000            1   \n4          1  LAX->LAS->ORD  coach      NK          6.800000            1   \n...      ...            ...    ...     ...               ...          ...   \n88784      1  ATL->DCA->ORD  coach      AA          5.783333            0   \n88785      1  ATL->DFW->ORD  coach      AA          5.850000            0   \n88786      1  ATL->JFK->ORD  coach      B6          7.116667            0   \n88787      0       ATL->ORD  coach      DL          2.233333            0   \n88788      1  ATL->DTW->ORD  coach      DL          3.850000            0   \n\n       isBasicEconomy  isRefundable  isNonStop  seatsRemaining  \\\n0                   0             0          0               0   \n1                   0             0          1               0   \n2                   0             0          1               0   \n3                   0             0          0               0   \n4                   0             0          0               0   \n...               ...           ...        ...             ...   \n88784               0             0          0               7   \n88785               0             0          0               7   \n88786               0             0          0               7   \n88787               0             0          1               9   \n88788               0             0          0               9   \n\n       totalTravelDistance  total_waiting_time  travel_dist_not_available  \\\n0                   2037.0                4.37                          1   \n1                   1745.0                0.00                          1   \n2                   1745.0                0.00                          1   \n3                   1753.0                0.92                          1   \n4                   1753.0                1.92                          1   \n...                    ...                 ...                        ...   \n88784               1135.0                1.67                          0   \n88785               1524.0                1.02                          0   \n88786               1492.0                1.85                          0   \n88787                600.0                0.00                          0   \n88788                844.0                0.57                          0   \n\n       baseFare  totalFare  \n0         21.11      91.29  \n1         43.00      99.89  \n2         43.00      99.89  \n3         33.00     103.18  \n4         33.00     103.18  \n...         ...        ...  \n88784    175.81     213.20  \n88785    175.81     213.20  \n88786    202.79     242.20  \n88787    226.98     258.90  \n88788    226.98     268.20  \n\n[88789 rows x 19 columns]",
      "text/html": "<div>\n<style scoped>\n    .dataframe tbody tr th:only-of-type {\n        vertical-align: middle;\n    }\n\n    .dataframe tbody tr th {\n        vertical-align: top;\n    }\n\n    .dataframe thead th {\n        text-align: right;\n    }\n</style>\n<table border=\"1\" class=\"dataframe\">\n  <thead>\n    <tr style=\"text-align: right;\">\n      <th></th>\n      <th>days_to_depart</th>\n      <th>flight_day_of_week</th>\n      <th>startingAirport</th>\n      <th>destinationAirport</th>\n      <th>stops</th>\n      <th>route</th>\n      <th>class</th>\n      <th>airline</th>\n      <th>travelDuration_h</th>\n      <th>elapsedDays</th>\n      <th>isBasicEconomy</th>\n      <th>isRefundable</th>\n      <th>isNonStop</th>\n      <th>seatsRemaining</th>\n      <th>totalTravelDistance</th>\n      <th>total_waiting_time</th>\n      <th>travel_dist_not_available</th>\n      <th>baseFare</th>\n      <th>totalFare</th>\n    </tr>\n  </thead>\n  <tbody>\n    <tr>\n      <th>0</th>\n      <td>44</td>\n      <td>3</td>\n      <td>LAX</td>\n      <td>ORD</td>\n      <td>1</td>\n      <td>LAX-&gt;DFW-&gt;ORD</td>\n      <td>coach</td>\n      <td>NK</td>\n      <td>9.983333</td>\n      <td>1</td>\n      <td>0</td>\n      <td>0</td>\n      <td>0</td>\n      <td>0</td>\n      <td>2037.0</td>\n      <td>4.37</td>\n      <td>1</td>\n      <td>21.11</td>\n      <td>91.29</td>\n    </tr>\n    <tr>\n      <th>1</th>\n      <td>44</td>\n      <td>3</td>\n      <td>LAX</td>\n      <td>ORD</td>\n      <td>0</td>\n      <td>LAX-&gt;ORD</td>\n      <td>coach</td>\n      <td>NK</td>\n      <td>4.050000</td>\n      <td>0</td>\n      <td>0</td>\n      <td>0</td>\n      <td>1</td>\n      <td>0</td>\n      <td>1745.0</td>\n      <td>0.00</td>\n      <td>1</td>\n      <td>43.00</td>\n      <td>99.89</td>\n    </tr>\n    <tr>\n      <th>2</th>\n      <td>44</td>\n      <td>3</td>\n      <td>LAX</td>\n      <td>ORD</td>\n      <td>0</td>\n      <td>LAX-&gt;ORD</td>\n      <td>coach</td>\n      <td>NK</td>\n      <td>4.066667</td>\n      <td>0</td>\n      <td>0</td>\n      <td>0</td>\n      <td>1</td>\n      <td>0</td>\n      <td>1745.0</td>\n      <td>0.00</td>\n      <td>1</td>\n      <td>43.00</td>\n      <td>99.89</td>\n    </tr>\n    <tr>\n      <th>3</th>\n      <td>44</td>\n      <td>3</td>\n      <td>LAX</td>\n      <td>ORD</td>\n      <td>1</td>\n      <td>LAX-&gt;LAS-&gt;ORD</td>\n      <td>coach</td>\n      <td>NK</td>\n      <td>5.800000</td>\n      <td>1</td>\n      <td>0</td>\n      <td>0</td>\n      <td>0</td>\n      <td>0</td>\n      <td>1753.0</td>\n      <td>0.92</td>\n      <td>1</td>\n      <td>33.00</td>\n      <td>103.18</td>\n    </tr>\n    <tr>\n      <th>4</th>\n      <td>44</td>\n      <td>3</td>\n      <td>LAX</td>\n      <td>ORD</td>\n      <td>1</td>\n      <td>LAX-&gt;LAS-&gt;ORD</td>\n      <td>coach</td>\n      <td>NK</td>\n      <td>6.800000</td>\n      <td>1</td>\n      <td>0</td>\n      <td>0</td>\n      <td>0</td>\n      <td>0</td>\n      <td>1753.0</td>\n      <td>1.92</td>\n      <td>1</td>\n      <td>33.00</td>\n      <td>103.18</td>\n    </tr>\n    <tr>\n      <th>...</th>\n      <td>...</td>\n      <td>...</td>\n      <td>...</td>\n      <td>...</td>\n      <td>...</td>\n      <td>...</td>\n      <td>...</td>\n      <td>...</td>\n      <td>...</td>\n      <td>...</td>\n      <td>...</td>\n      <td>...</td>\n      <td>...</td>\n      <td>...</td>\n      <td>...</td>\n      <td>...</td>\n      <td>...</td>\n      <td>...</td>\n      <td>...</td>\n    </tr>\n    <tr>\n      <th>88784</th>\n      <td>53</td>\n      <td>5</td>\n      <td>ATL</td>\n      <td>ORD</td>\n      <td>1</td>\n      <td>ATL-&gt;DCA-&gt;ORD</td>\n      <td>coach</td>\n      <td>AA</td>\n      <td>5.783333</td>\n      <td>0</td>\n      <td>0</td>\n      <td>0</td>\n      <td>0</td>\n      <td>7</td>\n      <td>1135.0</td>\n      <td>1.67</td>\n      <td>0</td>\n      <td>175.81</td>\n      <td>213.20</td>\n    </tr>\n    <tr>\n      <th>88785</th>\n      <td>53</td>\n      <td>5</td>\n      <td>ATL</td>\n      <td>ORD</td>\n      <td>1</td>\n      <td>ATL-&gt;DFW-&gt;ORD</td>\n      <td>coach</td>\n      <td>AA</td>\n      <td>5.850000</td>\n      <td>0</td>\n      <td>0</td>\n      <td>0</td>\n      <td>0</td>\n      <td>7</td>\n      <td>1524.0</td>\n      <td>1.02</td>\n      <td>0</td>\n      <td>175.81</td>\n      <td>213.20</td>\n    </tr>\n    <tr>\n      <th>88786</th>\n      <td>53</td>\n      <td>5</td>\n      <td>ATL</td>\n      <td>ORD</td>\n      <td>1</td>\n      <td>ATL-&gt;JFK-&gt;ORD</td>\n      <td>coach</td>\n      <td>B6</td>\n      <td>7.116667</td>\n      <td>0</td>\n      <td>0</td>\n      <td>0</td>\n      <td>0</td>\n      <td>7</td>\n      <td>1492.0</td>\n      <td>1.85</td>\n      <td>0</td>\n      <td>202.79</td>\n      <td>242.20</td>\n    </tr>\n    <tr>\n      <th>88787</th>\n      <td>53</td>\n      <td>5</td>\n      <td>ATL</td>\n      <td>ORD</td>\n      <td>0</td>\n      <td>ATL-&gt;ORD</td>\n      <td>coach</td>\n      <td>DL</td>\n      <td>2.233333</td>\n      <td>0</td>\n      <td>0</td>\n      <td>0</td>\n      <td>1</td>\n      <td>9</td>\n      <td>600.0</td>\n      <td>0.00</td>\n      <td>0</td>\n      <td>226.98</td>\n      <td>258.90</td>\n    </tr>\n    <tr>\n      <th>88788</th>\n      <td>53</td>\n      <td>5</td>\n      <td>ATL</td>\n      <td>ORD</td>\n      <td>1</td>\n      <td>ATL-&gt;DTW-&gt;ORD</td>\n      <td>coach</td>\n      <td>DL</td>\n      <td>3.850000</td>\n      <td>0</td>\n      <td>0</td>\n      <td>0</td>\n      <td>0</td>\n      <td>9</td>\n      <td>844.0</td>\n      <td>0.57</td>\n      <td>0</td>\n      <td>226.98</td>\n      <td>268.20</td>\n    </tr>\n  </tbody>\n</table>\n<p>88789 rows × 19 columns</p>\n</div>"
     },
     "execution_count": 33,
     "metadata": {},
     "output_type": "execute_result"
    }
   ],
   "source": [
    "data"
   ],
   "metadata": {
    "collapsed": false
   }
  },
  {
   "cell_type": "code",
   "execution_count": 34,
   "outputs": [],
   "source": [
    "data.drop('route',inplace=True,axis=1)"
   ],
   "metadata": {
    "collapsed": false
   }
  },
  {
   "cell_type": "code",
   "execution_count": 35,
   "outputs": [
    {
     "data": {
      "text/plain": "days_to_depart                  0\nflight_day_of_week              0\nstartingAirport                 0\ndestinationAirport              0\nstops                           0\nclass                           0\nairline                         0\ntravelDuration_h                0\nelapsedDays                     0\nisBasicEconomy                  0\nisRefundable                    0\nisNonStop                       0\nseatsRemaining                  0\ntotalTravelDistance          3225\ntotal_waiting_time              0\ntravel_dist_not_available       0\nbaseFare                        0\ntotalFare                       0\ndtype: int64"
     },
     "execution_count": 35,
     "metadata": {},
     "output_type": "execute_result"
    }
   ],
   "source": [
    "data.isna().sum()"
   ],
   "metadata": {
    "collapsed": false
   }
  },
  {
   "cell_type": "code",
   "execution_count": 36,
   "outputs": [],
   "source": [
    "data = data.dropna()"
   ],
   "metadata": {
    "collapsed": false
   }
  },
  {
   "cell_type": "code",
   "execution_count": 37,
   "outputs": [
    {
     "data": {
      "text/plain": "       days_to_depart  flight_day_of_week startingAirport destinationAirport  \\\n0                  44                   3             LAX                ORD   \n1                  44                   3             LAX                ORD   \n2                  44                   3             LAX                ORD   \n3                  44                   3             LAX                ORD   \n4                  44                   3             LAX                ORD   \n...               ...                 ...             ...                ...   \n85559              53                   5             ATL                ORD   \n85560              53                   5             ATL                ORD   \n85561              53                   5             ATL                ORD   \n85562              53                   5             ATL                ORD   \n85563              53                   5             ATL                ORD   \n\n       stops  class airline  travelDuration_h  elapsedDays  isBasicEconomy  \\\n0          1  coach      NK          9.983333            1               0   \n1          0  coach      NK          4.050000            0               0   \n2          0  coach      NK          4.066667            0               0   \n3          1  coach      NK          5.800000            1               0   \n4          1  coach      NK          6.800000            1               0   \n...      ...    ...     ...               ...          ...             ...   \n85559      1  coach      AA          5.783333            0               0   \n85560      1  coach      AA          5.850000            0               0   \n85561      1  coach      B6          7.116667            0               0   \n85562      0  coach      DL          2.233333            0               0   \n85563      1  coach      DL          3.850000            0               0   \n\n       isRefundable  isNonStop  seatsRemaining  totalTravelDistance  \\\n0                 0          0               0               2037.0   \n1                 0          1               0               1745.0   \n2                 0          1               0               1745.0   \n3                 0          0               0               1753.0   \n4                 0          0               0               1753.0   \n...             ...        ...             ...                  ...   \n85559             0          0               7               1135.0   \n85560             0          0               7               1524.0   \n85561             0          0               7               1492.0   \n85562             0          1               9                600.0   \n85563             0          0               9                844.0   \n\n       total_waiting_time  travel_dist_not_available  baseFare  totalFare  \n0                    4.37                          1     21.11      91.29  \n1                    0.00                          1     43.00      99.89  \n2                    0.00                          1     43.00      99.89  \n3                    0.92                          1     33.00     103.18  \n4                    1.92                          1     33.00     103.18  \n...                   ...                        ...       ...        ...  \n85559                1.67                          0    175.81     213.20  \n85560                1.02                          0    175.81     213.20  \n85561                1.85                          0    202.79     242.20  \n85562                0.00                          0    226.98     258.90  \n85563                0.57                          0    226.98     268.20  \n\n[85564 rows x 18 columns]",
      "text/html": "<div>\n<style scoped>\n    .dataframe tbody tr th:only-of-type {\n        vertical-align: middle;\n    }\n\n    .dataframe tbody tr th {\n        vertical-align: top;\n    }\n\n    .dataframe thead th {\n        text-align: right;\n    }\n</style>\n<table border=\"1\" class=\"dataframe\">\n  <thead>\n    <tr style=\"text-align: right;\">\n      <th></th>\n      <th>days_to_depart</th>\n      <th>flight_day_of_week</th>\n      <th>startingAirport</th>\n      <th>destinationAirport</th>\n      <th>stops</th>\n      <th>class</th>\n      <th>airline</th>\n      <th>travelDuration_h</th>\n      <th>elapsedDays</th>\n      <th>isBasicEconomy</th>\n      <th>isRefundable</th>\n      <th>isNonStop</th>\n      <th>seatsRemaining</th>\n      <th>totalTravelDistance</th>\n      <th>total_waiting_time</th>\n      <th>travel_dist_not_available</th>\n      <th>baseFare</th>\n      <th>totalFare</th>\n    </tr>\n  </thead>\n  <tbody>\n    <tr>\n      <th>0</th>\n      <td>44</td>\n      <td>3</td>\n      <td>LAX</td>\n      <td>ORD</td>\n      <td>1</td>\n      <td>coach</td>\n      <td>NK</td>\n      <td>9.983333</td>\n      <td>1</td>\n      <td>0</td>\n      <td>0</td>\n      <td>0</td>\n      <td>0</td>\n      <td>2037.0</td>\n      <td>4.37</td>\n      <td>1</td>\n      <td>21.11</td>\n      <td>91.29</td>\n    </tr>\n    <tr>\n      <th>1</th>\n      <td>44</td>\n      <td>3</td>\n      <td>LAX</td>\n      <td>ORD</td>\n      <td>0</td>\n      <td>coach</td>\n      <td>NK</td>\n      <td>4.050000</td>\n      <td>0</td>\n      <td>0</td>\n      <td>0</td>\n      <td>1</td>\n      <td>0</td>\n      <td>1745.0</td>\n      <td>0.00</td>\n      <td>1</td>\n      <td>43.00</td>\n      <td>99.89</td>\n    </tr>\n    <tr>\n      <th>2</th>\n      <td>44</td>\n      <td>3</td>\n      <td>LAX</td>\n      <td>ORD</td>\n      <td>0</td>\n      <td>coach</td>\n      <td>NK</td>\n      <td>4.066667</td>\n      <td>0</td>\n      <td>0</td>\n      <td>0</td>\n      <td>1</td>\n      <td>0</td>\n      <td>1745.0</td>\n      <td>0.00</td>\n      <td>1</td>\n      <td>43.00</td>\n      <td>99.89</td>\n    </tr>\n    <tr>\n      <th>3</th>\n      <td>44</td>\n      <td>3</td>\n      <td>LAX</td>\n      <td>ORD</td>\n      <td>1</td>\n      <td>coach</td>\n      <td>NK</td>\n      <td>5.800000</td>\n      <td>1</td>\n      <td>0</td>\n      <td>0</td>\n      <td>0</td>\n      <td>0</td>\n      <td>1753.0</td>\n      <td>0.92</td>\n      <td>1</td>\n      <td>33.00</td>\n      <td>103.18</td>\n    </tr>\n    <tr>\n      <th>4</th>\n      <td>44</td>\n      <td>3</td>\n      <td>LAX</td>\n      <td>ORD</td>\n      <td>1</td>\n      <td>coach</td>\n      <td>NK</td>\n      <td>6.800000</td>\n      <td>1</td>\n      <td>0</td>\n      <td>0</td>\n      <td>0</td>\n      <td>0</td>\n      <td>1753.0</td>\n      <td>1.92</td>\n      <td>1</td>\n      <td>33.00</td>\n      <td>103.18</td>\n    </tr>\n    <tr>\n      <th>...</th>\n      <td>...</td>\n      <td>...</td>\n      <td>...</td>\n      <td>...</td>\n      <td>...</td>\n      <td>...</td>\n      <td>...</td>\n      <td>...</td>\n      <td>...</td>\n      <td>...</td>\n      <td>...</td>\n      <td>...</td>\n      <td>...</td>\n      <td>...</td>\n      <td>...</td>\n      <td>...</td>\n      <td>...</td>\n      <td>...</td>\n    </tr>\n    <tr>\n      <th>85559</th>\n      <td>53</td>\n      <td>5</td>\n      <td>ATL</td>\n      <td>ORD</td>\n      <td>1</td>\n      <td>coach</td>\n      <td>AA</td>\n      <td>5.783333</td>\n      <td>0</td>\n      <td>0</td>\n      <td>0</td>\n      <td>0</td>\n      <td>7</td>\n      <td>1135.0</td>\n      <td>1.67</td>\n      <td>0</td>\n      <td>175.81</td>\n      <td>213.20</td>\n    </tr>\n    <tr>\n      <th>85560</th>\n      <td>53</td>\n      <td>5</td>\n      <td>ATL</td>\n      <td>ORD</td>\n      <td>1</td>\n      <td>coach</td>\n      <td>AA</td>\n      <td>5.850000</td>\n      <td>0</td>\n      <td>0</td>\n      <td>0</td>\n      <td>0</td>\n      <td>7</td>\n      <td>1524.0</td>\n      <td>1.02</td>\n      <td>0</td>\n      <td>175.81</td>\n      <td>213.20</td>\n    </tr>\n    <tr>\n      <th>85561</th>\n      <td>53</td>\n      <td>5</td>\n      <td>ATL</td>\n      <td>ORD</td>\n      <td>1</td>\n      <td>coach</td>\n      <td>B6</td>\n      <td>7.116667</td>\n      <td>0</td>\n      <td>0</td>\n      <td>0</td>\n      <td>0</td>\n      <td>7</td>\n      <td>1492.0</td>\n      <td>1.85</td>\n      <td>0</td>\n      <td>202.79</td>\n      <td>242.20</td>\n    </tr>\n    <tr>\n      <th>85562</th>\n      <td>53</td>\n      <td>5</td>\n      <td>ATL</td>\n      <td>ORD</td>\n      <td>0</td>\n      <td>coach</td>\n      <td>DL</td>\n      <td>2.233333</td>\n      <td>0</td>\n      <td>0</td>\n      <td>0</td>\n      <td>1</td>\n      <td>9</td>\n      <td>600.0</td>\n      <td>0.00</td>\n      <td>0</td>\n      <td>226.98</td>\n      <td>258.90</td>\n    </tr>\n    <tr>\n      <th>85563</th>\n      <td>53</td>\n      <td>5</td>\n      <td>ATL</td>\n      <td>ORD</td>\n      <td>1</td>\n      <td>coach</td>\n      <td>DL</td>\n      <td>3.850000</td>\n      <td>0</td>\n      <td>0</td>\n      <td>0</td>\n      <td>0</td>\n      <td>9</td>\n      <td>844.0</td>\n      <td>0.57</td>\n      <td>0</td>\n      <td>226.98</td>\n      <td>268.20</td>\n    </tr>\n  </tbody>\n</table>\n<p>85564 rows × 18 columns</p>\n</div>"
     },
     "execution_count": 37,
     "metadata": {},
     "output_type": "execute_result"
    }
   ],
   "source": [
    "data = data.reset_index(drop=True)\n",
    "data"
   ],
   "metadata": {
    "collapsed": false
   }
  },
  {
   "cell_type": "code",
   "execution_count": 54,
   "outputs": [
    {
     "name": "stdout",
     "output_type": "stream",
     "text": [
      "['startingAirport', 'destinationAirport', 'class', 'airline']\n"
     ]
    }
   ],
   "source": [
    "categorical_cols = data.select_dtypes(include=['object']).columns.tolist()\n",
    "print(categorical_cols)"
   ],
   "metadata": {
    "collapsed": false
   }
  },
  {
   "cell_type": "code",
   "execution_count": 55,
   "outputs": [],
   "source": [
    "data_copy = data.copy()"
   ],
   "metadata": {
    "collapsed": false
   }
  },
  {
   "cell_type": "code",
   "execution_count": 56,
   "outputs": [],
   "source": [
    "from sklearn.compose import ColumnTransformer\n",
    "from sklearn.preprocessing import StandardScaler, OneHotEncoder\n"
   ],
   "metadata": {
    "collapsed": false
   }
  },
  {
   "cell_type": "code",
   "execution_count": 57,
   "outputs": [
    {
     "data": {
      "text/plain": "       days_to_depart  flight_day_of_week startingAirport destinationAirport  \\\n0                  44                   3             LAX                ORD   \n1                  44                   3             LAX                ORD   \n2                  44                   3             LAX                ORD   \n3                  44                   3             LAX                ORD   \n4                  44                   3             LAX                ORD   \n...               ...                 ...             ...                ...   \n85559              53                   5             ATL                ORD   \n85560              53                   5             ATL                ORD   \n85561              53                   5             ATL                ORD   \n85562              53                   5             ATL                ORD   \n85563              53                   5             ATL                ORD   \n\n       stops  class airline  travelDuration_h  elapsedDays  isBasicEconomy  \\\n0          1  coach      NK          9.983333            1               0   \n1          0  coach      NK          4.050000            0               0   \n2          0  coach      NK          4.066667            0               0   \n3          1  coach      NK          5.800000            1               0   \n4          1  coach      NK          6.800000            1               0   \n...      ...    ...     ...               ...          ...             ...   \n85559      1  coach      AA          5.783333            0               0   \n85560      1  coach      AA          5.850000            0               0   \n85561      1  coach      B6          7.116667            0               0   \n85562      0  coach      DL          2.233333            0               0   \n85563      1  coach      DL          3.850000            0               0   \n\n       isRefundable  isNonStop  seatsRemaining  totalTravelDistance  \\\n0                 0          0               0               2037.0   \n1                 0          1               0               1745.0   \n2                 0          1               0               1745.0   \n3                 0          0               0               1753.0   \n4                 0          0               0               1753.0   \n...             ...        ...             ...                  ...   \n85559             0          0               7               1135.0   \n85560             0          0               7               1524.0   \n85561             0          0               7               1492.0   \n85562             0          1               9                600.0   \n85563             0          0               9                844.0   \n\n       total_waiting_time  travel_dist_not_available  baseFare  totalFare  \n0                    4.37                          1     21.11      91.29  \n1                    0.00                          1     43.00      99.89  \n2                    0.00                          1     43.00      99.89  \n3                    0.92                          1     33.00     103.18  \n4                    1.92                          1     33.00     103.18  \n...                   ...                        ...       ...        ...  \n85559                1.67                          0    175.81     213.20  \n85560                1.02                          0    175.81     213.20  \n85561                1.85                          0    202.79     242.20  \n85562                0.00                          0    226.98     258.90  \n85563                0.57                          0    226.98     268.20  \n\n[85564 rows x 18 columns]",
      "text/html": "<div>\n<style scoped>\n    .dataframe tbody tr th:only-of-type {\n        vertical-align: middle;\n    }\n\n    .dataframe tbody tr th {\n        vertical-align: top;\n    }\n\n    .dataframe thead th {\n        text-align: right;\n    }\n</style>\n<table border=\"1\" class=\"dataframe\">\n  <thead>\n    <tr style=\"text-align: right;\">\n      <th></th>\n      <th>days_to_depart</th>\n      <th>flight_day_of_week</th>\n      <th>startingAirport</th>\n      <th>destinationAirport</th>\n      <th>stops</th>\n      <th>class</th>\n      <th>airline</th>\n      <th>travelDuration_h</th>\n      <th>elapsedDays</th>\n      <th>isBasicEconomy</th>\n      <th>isRefundable</th>\n      <th>isNonStop</th>\n      <th>seatsRemaining</th>\n      <th>totalTravelDistance</th>\n      <th>total_waiting_time</th>\n      <th>travel_dist_not_available</th>\n      <th>baseFare</th>\n      <th>totalFare</th>\n    </tr>\n  </thead>\n  <tbody>\n    <tr>\n      <th>0</th>\n      <td>44</td>\n      <td>3</td>\n      <td>LAX</td>\n      <td>ORD</td>\n      <td>1</td>\n      <td>coach</td>\n      <td>NK</td>\n      <td>9.983333</td>\n      <td>1</td>\n      <td>0</td>\n      <td>0</td>\n      <td>0</td>\n      <td>0</td>\n      <td>2037.0</td>\n      <td>4.37</td>\n      <td>1</td>\n      <td>21.11</td>\n      <td>91.29</td>\n    </tr>\n    <tr>\n      <th>1</th>\n      <td>44</td>\n      <td>3</td>\n      <td>LAX</td>\n      <td>ORD</td>\n      <td>0</td>\n      <td>coach</td>\n      <td>NK</td>\n      <td>4.050000</td>\n      <td>0</td>\n      <td>0</td>\n      <td>0</td>\n      <td>1</td>\n      <td>0</td>\n      <td>1745.0</td>\n      <td>0.00</td>\n      <td>1</td>\n      <td>43.00</td>\n      <td>99.89</td>\n    </tr>\n    <tr>\n      <th>2</th>\n      <td>44</td>\n      <td>3</td>\n      <td>LAX</td>\n      <td>ORD</td>\n      <td>0</td>\n      <td>coach</td>\n      <td>NK</td>\n      <td>4.066667</td>\n      <td>0</td>\n      <td>0</td>\n      <td>0</td>\n      <td>1</td>\n      <td>0</td>\n      <td>1745.0</td>\n      <td>0.00</td>\n      <td>1</td>\n      <td>43.00</td>\n      <td>99.89</td>\n    </tr>\n    <tr>\n      <th>3</th>\n      <td>44</td>\n      <td>3</td>\n      <td>LAX</td>\n      <td>ORD</td>\n      <td>1</td>\n      <td>coach</td>\n      <td>NK</td>\n      <td>5.800000</td>\n      <td>1</td>\n      <td>0</td>\n      <td>0</td>\n      <td>0</td>\n      <td>0</td>\n      <td>1753.0</td>\n      <td>0.92</td>\n      <td>1</td>\n      <td>33.00</td>\n      <td>103.18</td>\n    </tr>\n    <tr>\n      <th>4</th>\n      <td>44</td>\n      <td>3</td>\n      <td>LAX</td>\n      <td>ORD</td>\n      <td>1</td>\n      <td>coach</td>\n      <td>NK</td>\n      <td>6.800000</td>\n      <td>1</td>\n      <td>0</td>\n      <td>0</td>\n      <td>0</td>\n      <td>0</td>\n      <td>1753.0</td>\n      <td>1.92</td>\n      <td>1</td>\n      <td>33.00</td>\n      <td>103.18</td>\n    </tr>\n    <tr>\n      <th>...</th>\n      <td>...</td>\n      <td>...</td>\n      <td>...</td>\n      <td>...</td>\n      <td>...</td>\n      <td>...</td>\n      <td>...</td>\n      <td>...</td>\n      <td>...</td>\n      <td>...</td>\n      <td>...</td>\n      <td>...</td>\n      <td>...</td>\n      <td>...</td>\n      <td>...</td>\n      <td>...</td>\n      <td>...</td>\n      <td>...</td>\n    </tr>\n    <tr>\n      <th>85559</th>\n      <td>53</td>\n      <td>5</td>\n      <td>ATL</td>\n      <td>ORD</td>\n      <td>1</td>\n      <td>coach</td>\n      <td>AA</td>\n      <td>5.783333</td>\n      <td>0</td>\n      <td>0</td>\n      <td>0</td>\n      <td>0</td>\n      <td>7</td>\n      <td>1135.0</td>\n      <td>1.67</td>\n      <td>0</td>\n      <td>175.81</td>\n      <td>213.20</td>\n    </tr>\n    <tr>\n      <th>85560</th>\n      <td>53</td>\n      <td>5</td>\n      <td>ATL</td>\n      <td>ORD</td>\n      <td>1</td>\n      <td>coach</td>\n      <td>AA</td>\n      <td>5.850000</td>\n      <td>0</td>\n      <td>0</td>\n      <td>0</td>\n      <td>0</td>\n      <td>7</td>\n      <td>1524.0</td>\n      <td>1.02</td>\n      <td>0</td>\n      <td>175.81</td>\n      <td>213.20</td>\n    </tr>\n    <tr>\n      <th>85561</th>\n      <td>53</td>\n      <td>5</td>\n      <td>ATL</td>\n      <td>ORD</td>\n      <td>1</td>\n      <td>coach</td>\n      <td>B6</td>\n      <td>7.116667</td>\n      <td>0</td>\n      <td>0</td>\n      <td>0</td>\n      <td>0</td>\n      <td>7</td>\n      <td>1492.0</td>\n      <td>1.85</td>\n      <td>0</td>\n      <td>202.79</td>\n      <td>242.20</td>\n    </tr>\n    <tr>\n      <th>85562</th>\n      <td>53</td>\n      <td>5</td>\n      <td>ATL</td>\n      <td>ORD</td>\n      <td>0</td>\n      <td>coach</td>\n      <td>DL</td>\n      <td>2.233333</td>\n      <td>0</td>\n      <td>0</td>\n      <td>0</td>\n      <td>1</td>\n      <td>9</td>\n      <td>600.0</td>\n      <td>0.00</td>\n      <td>0</td>\n      <td>226.98</td>\n      <td>258.90</td>\n    </tr>\n    <tr>\n      <th>85563</th>\n      <td>53</td>\n      <td>5</td>\n      <td>ATL</td>\n      <td>ORD</td>\n      <td>1</td>\n      <td>coach</td>\n      <td>DL</td>\n      <td>3.850000</td>\n      <td>0</td>\n      <td>0</td>\n      <td>0</td>\n      <td>0</td>\n      <td>9</td>\n      <td>844.0</td>\n      <td>0.57</td>\n      <td>0</td>\n      <td>226.98</td>\n      <td>268.20</td>\n    </tr>\n  </tbody>\n</table>\n<p>85564 rows × 18 columns</p>\n</div>"
     },
     "execution_count": 57,
     "metadata": {},
     "output_type": "execute_result"
    }
   ],
   "source": [
    "data_copy"
   ],
   "metadata": {
    "collapsed": false
   }
  },
  {
   "cell_type": "code",
   "execution_count": 58,
   "outputs": [],
   "source": [
    "data_copy = pd.get_dummies(data_copy,columns=categorical_cols)"
   ],
   "metadata": {
    "collapsed": false
   }
  },
  {
   "cell_type": "code",
   "execution_count": 59,
   "outputs": [
    {
     "data": {
      "text/plain": "       days_to_depart  flight_day_of_week  stops  travelDuration_h  \\\n0                  44                   3      1          9.983333   \n1                  44                   3      0          4.050000   \n2                  44                   3      0          4.066667   \n3                  44                   3      1          5.800000   \n4                  44                   3      1          6.800000   \n...               ...                 ...    ...               ...   \n85559              53                   5      1          5.783333   \n85560              53                   5      1          5.850000   \n85561              53                   5      1          7.116667   \n85562              53                   5      0          2.233333   \n85563              53                   5      1          3.850000   \n\n       elapsedDays  isBasicEconomy  isRefundable  isNonStop  seatsRemaining  \\\n0                1               0             0          0               0   \n1                0               0             0          1               0   \n2                0               0             0          1               0   \n3                1               0             0          0               0   \n4                1               0             0          0               0   \n...            ...             ...           ...        ...             ...   \n85559            0               0             0          0               7   \n85560            0               0             0          0               7   \n85561            0               0             0          0               7   \n85562            0               0             0          1               9   \n85563            0               0             0          0               9   \n\n       totalTravelDistance  ...  airline_DL+AS  airline_DL+UA  airline_F9  \\\n0                   2037.0  ...              0              0           0   \n1                   1745.0  ...              0              0           0   \n2                   1745.0  ...              0              0           0   \n3                   1753.0  ...              0              0           0   \n4                   1753.0  ...              0              0           0   \n...                    ...  ...            ...            ...         ...   \n85559               1135.0  ...              0              0           0   \n85560               1524.0  ...              0              0           0   \n85561               1492.0  ...              0              0           0   \n85562                600.0  ...              0              0           0   \n85563                844.0  ...              0              0           0   \n\n       airline_NK  airline_SY  airline_UA  airline_UA+9K  airline_UA+9X  \\\n0               1           0           0              0              0   \n1               1           0           0              0              0   \n2               1           0           0              0              0   \n3               1           0           0              0              0   \n4               1           0           0              0              0   \n...           ...         ...         ...            ...            ...   \n85559           0           0           0              0              0   \n85560           0           0           0              0              0   \n85561           0           0           0              0              0   \n85562           0           0           0              0              0   \n85563           0           0           0              0              0   \n\n       airline_UA+AS  airline_UA+DL  \n0                  0              0  \n1                  0              0  \n2                  0              0  \n3                  0              0  \n4                  0              0  \n...              ...            ...  \n85559              0              0  \n85560              0              0  \n85561              0              0  \n85562              0              0  \n85563              0              0  \n\n[85564 rows x 55 columns]",
      "text/html": "<div>\n<style scoped>\n    .dataframe tbody tr th:only-of-type {\n        vertical-align: middle;\n    }\n\n    .dataframe tbody tr th {\n        vertical-align: top;\n    }\n\n    .dataframe thead th {\n        text-align: right;\n    }\n</style>\n<table border=\"1\" class=\"dataframe\">\n  <thead>\n    <tr style=\"text-align: right;\">\n      <th></th>\n      <th>days_to_depart</th>\n      <th>flight_day_of_week</th>\n      <th>stops</th>\n      <th>travelDuration_h</th>\n      <th>elapsedDays</th>\n      <th>isBasicEconomy</th>\n      <th>isRefundable</th>\n      <th>isNonStop</th>\n      <th>seatsRemaining</th>\n      <th>totalTravelDistance</th>\n      <th>...</th>\n      <th>airline_DL+AS</th>\n      <th>airline_DL+UA</th>\n      <th>airline_F9</th>\n      <th>airline_NK</th>\n      <th>airline_SY</th>\n      <th>airline_UA</th>\n      <th>airline_UA+9K</th>\n      <th>airline_UA+9X</th>\n      <th>airline_UA+AS</th>\n      <th>airline_UA+DL</th>\n    </tr>\n  </thead>\n  <tbody>\n    <tr>\n      <th>0</th>\n      <td>44</td>\n      <td>3</td>\n      <td>1</td>\n      <td>9.983333</td>\n      <td>1</td>\n      <td>0</td>\n      <td>0</td>\n      <td>0</td>\n      <td>0</td>\n      <td>2037.0</td>\n      <td>...</td>\n      <td>0</td>\n      <td>0</td>\n      <td>0</td>\n      <td>1</td>\n      <td>0</td>\n      <td>0</td>\n      <td>0</td>\n      <td>0</td>\n      <td>0</td>\n      <td>0</td>\n    </tr>\n    <tr>\n      <th>1</th>\n      <td>44</td>\n      <td>3</td>\n      <td>0</td>\n      <td>4.050000</td>\n      <td>0</td>\n      <td>0</td>\n      <td>0</td>\n      <td>1</td>\n      <td>0</td>\n      <td>1745.0</td>\n      <td>...</td>\n      <td>0</td>\n      <td>0</td>\n      <td>0</td>\n      <td>1</td>\n      <td>0</td>\n      <td>0</td>\n      <td>0</td>\n      <td>0</td>\n      <td>0</td>\n      <td>0</td>\n    </tr>\n    <tr>\n      <th>2</th>\n      <td>44</td>\n      <td>3</td>\n      <td>0</td>\n      <td>4.066667</td>\n      <td>0</td>\n      <td>0</td>\n      <td>0</td>\n      <td>1</td>\n      <td>0</td>\n      <td>1745.0</td>\n      <td>...</td>\n      <td>0</td>\n      <td>0</td>\n      <td>0</td>\n      <td>1</td>\n      <td>0</td>\n      <td>0</td>\n      <td>0</td>\n      <td>0</td>\n      <td>0</td>\n      <td>0</td>\n    </tr>\n    <tr>\n      <th>3</th>\n      <td>44</td>\n      <td>3</td>\n      <td>1</td>\n      <td>5.800000</td>\n      <td>1</td>\n      <td>0</td>\n      <td>0</td>\n      <td>0</td>\n      <td>0</td>\n      <td>1753.0</td>\n      <td>...</td>\n      <td>0</td>\n      <td>0</td>\n      <td>0</td>\n      <td>1</td>\n      <td>0</td>\n      <td>0</td>\n      <td>0</td>\n      <td>0</td>\n      <td>0</td>\n      <td>0</td>\n    </tr>\n    <tr>\n      <th>4</th>\n      <td>44</td>\n      <td>3</td>\n      <td>1</td>\n      <td>6.800000</td>\n      <td>1</td>\n      <td>0</td>\n      <td>0</td>\n      <td>0</td>\n      <td>0</td>\n      <td>1753.0</td>\n      <td>...</td>\n      <td>0</td>\n      <td>0</td>\n      <td>0</td>\n      <td>1</td>\n      <td>0</td>\n      <td>0</td>\n      <td>0</td>\n      <td>0</td>\n      <td>0</td>\n      <td>0</td>\n    </tr>\n    <tr>\n      <th>...</th>\n      <td>...</td>\n      <td>...</td>\n      <td>...</td>\n      <td>...</td>\n      <td>...</td>\n      <td>...</td>\n      <td>...</td>\n      <td>...</td>\n      <td>...</td>\n      <td>...</td>\n      <td>...</td>\n      <td>...</td>\n      <td>...</td>\n      <td>...</td>\n      <td>...</td>\n      <td>...</td>\n      <td>...</td>\n      <td>...</td>\n      <td>...</td>\n      <td>...</td>\n      <td>...</td>\n    </tr>\n    <tr>\n      <th>85559</th>\n      <td>53</td>\n      <td>5</td>\n      <td>1</td>\n      <td>5.783333</td>\n      <td>0</td>\n      <td>0</td>\n      <td>0</td>\n      <td>0</td>\n      <td>7</td>\n      <td>1135.0</td>\n      <td>...</td>\n      <td>0</td>\n      <td>0</td>\n      <td>0</td>\n      <td>0</td>\n      <td>0</td>\n      <td>0</td>\n      <td>0</td>\n      <td>0</td>\n      <td>0</td>\n      <td>0</td>\n    </tr>\n    <tr>\n      <th>85560</th>\n      <td>53</td>\n      <td>5</td>\n      <td>1</td>\n      <td>5.850000</td>\n      <td>0</td>\n      <td>0</td>\n      <td>0</td>\n      <td>0</td>\n      <td>7</td>\n      <td>1524.0</td>\n      <td>...</td>\n      <td>0</td>\n      <td>0</td>\n      <td>0</td>\n      <td>0</td>\n      <td>0</td>\n      <td>0</td>\n      <td>0</td>\n      <td>0</td>\n      <td>0</td>\n      <td>0</td>\n    </tr>\n    <tr>\n      <th>85561</th>\n      <td>53</td>\n      <td>5</td>\n      <td>1</td>\n      <td>7.116667</td>\n      <td>0</td>\n      <td>0</td>\n      <td>0</td>\n      <td>0</td>\n      <td>7</td>\n      <td>1492.0</td>\n      <td>...</td>\n      <td>0</td>\n      <td>0</td>\n      <td>0</td>\n      <td>0</td>\n      <td>0</td>\n      <td>0</td>\n      <td>0</td>\n      <td>0</td>\n      <td>0</td>\n      <td>0</td>\n    </tr>\n    <tr>\n      <th>85562</th>\n      <td>53</td>\n      <td>5</td>\n      <td>0</td>\n      <td>2.233333</td>\n      <td>0</td>\n      <td>0</td>\n      <td>0</td>\n      <td>1</td>\n      <td>9</td>\n      <td>600.0</td>\n      <td>...</td>\n      <td>0</td>\n      <td>0</td>\n      <td>0</td>\n      <td>0</td>\n      <td>0</td>\n      <td>0</td>\n      <td>0</td>\n      <td>0</td>\n      <td>0</td>\n      <td>0</td>\n    </tr>\n    <tr>\n      <th>85563</th>\n      <td>53</td>\n      <td>5</td>\n      <td>1</td>\n      <td>3.850000</td>\n      <td>0</td>\n      <td>0</td>\n      <td>0</td>\n      <td>0</td>\n      <td>9</td>\n      <td>844.0</td>\n      <td>...</td>\n      <td>0</td>\n      <td>0</td>\n      <td>0</td>\n      <td>0</td>\n      <td>0</td>\n      <td>0</td>\n      <td>0</td>\n      <td>0</td>\n      <td>0</td>\n      <td>0</td>\n    </tr>\n  </tbody>\n</table>\n<p>85564 rows × 55 columns</p>\n</div>"
     },
     "execution_count": 59,
     "metadata": {},
     "output_type": "execute_result"
    }
   ],
   "source": [
    "data_copy"
   ],
   "metadata": {
    "collapsed": false
   }
  },
  {
   "cell_type": "code",
   "execution_count": 60,
   "outputs": [],
   "source": [
    "#data_copy.to_csv('data/ready_to_use.csv',index=False)"
   ],
   "metadata": {
    "collapsed": false
   }
  },
  {
   "cell_type": "code",
   "execution_count": null,
   "outputs": [],
   "source": [],
   "metadata": {
    "collapsed": false
   }
  }
 ],
 "metadata": {
  "kernelspec": {
   "display_name": "Python 3",
   "language": "python",
   "name": "python3"
  },
  "language_info": {
   "codemirror_mode": {
    "name": "ipython",
    "version": 2
   },
   "file_extension": ".py",
   "mimetype": "text/x-python",
   "name": "python",
   "nbconvert_exporter": "python",
   "pygments_lexer": "ipython2",
   "version": "2.7.6"
  }
 },
 "nbformat": 4,
 "nbformat_minor": 0
}
