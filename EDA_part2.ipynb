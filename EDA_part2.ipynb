{
 "cells": [
  {
   "cell_type": "markdown",
   "source": [
    "# Here we talk about how we preprocessing data and imputation.\n",
    "## Part 3 of EDA"
   ],
   "metadata": {
    "collapsed": false
   }
  },
  {
   "cell_type": "markdown",
   "source": [
    "I have a uncleaned dataset. Firstly I clean the data, combing some attributes and extract some other attributes from the existed attributes, with column transformation. I did not do any changes with the rows. Secondly, I split the data to train and test set, and use imputation method on train sets, then do the same thing on the test set. Thirdly, I use train set to train my Ml model and use test set to test the performance."
   ],
   "metadata": {
    "collapsed": false
   }
  },
  {
   "cell_type": "code",
   "execution_count": 1,
   "metadata": {
    "collapsed": true
   },
   "outputs": [],
   "source": [
    "import pandas as pd\n",
    "import numpy as np\n",
    "import matplotlib.pyplot as plt\n",
    "import seaborn as sns\n",
    "import plotly.express as px\n",
    "from sklearn.preprocessing import OneHotEncoder\n",
    "from sklearn.experimental import enable_iterative_imputer\n",
    "from sklearn.impute import IterativeImputer\n",
    "from sklearn.tree import DecisionTreeRegressor\n",
    "from sklearn.linear_model import LinearRegression"
   ]
  },
  {
   "cell_type": "code",
   "execution_count": 7,
   "outputs": [
    {
     "data": {
      "text/plain": "       days_to_depart  flight_day_of_week startingAirport destinationAirport  \\\n0                  44                   3             LAX                ORD   \n1                  44                   3             LAX                ORD   \n2                  44                   3             LAX                ORD   \n3                  44                   3             LAX                ORD   \n4                  44                   3             LAX                ORD   \n...               ...                 ...             ...                ...   \n88784              53                   5             ATL                ORD   \n88785              53                   5             ATL                ORD   \n88786              53                   5             ATL                ORD   \n88787              53                   5             ATL                ORD   \n88788              53                   5             ATL                ORD   \n\n      departure_time arriving_time  isDeparture_time_6to18  \\\n0           12:55:00      00:54:00                    True   \n1           15:21:00      21:24:00                    True   \n2           07:00:00      13:04:00                    True   \n3           20:25:00      04:13:00                   False   \n4           19:25:00      04:13:00                   False   \n...              ...           ...                     ...   \n88784       11:18:00      16:05:00                    True   \n88785       12:24:00      17:15:00                    True   \n88786       11:42:00      17:49:00                    True   \n88787       17:45:00      18:59:00                    True   \n88788       18:15:00      21:06:00                   False   \n\n       isArriving_time_11to24  stops          route  ... travelDuration_h  \\\n0                       False      1  LAX->DFW->ORD  ...         9.983333   \n1                        True      0       LAX->ORD  ...         4.050000   \n2                        True      0       LAX->ORD  ...         4.066667   \n3                       False      1  LAX->LAS->ORD  ...         5.800000   \n4                       False      1  LAX->LAS->ORD  ...         6.800000   \n...                       ...    ...            ...  ...              ...   \n88784                    True      1  ATL->DCA->ORD  ...         5.783333   \n88785                    True      1  ATL->DFW->ORD  ...         5.850000   \n88786                    True      1  ATL->JFK->ORD  ...         7.116667   \n88787                    True      0       ATL->ORD  ...         2.233333   \n88788                    True      1  ATL->DTW->ORD  ...         3.850000   \n\n      elapsedDays  isBasicEconomy  isRefundable  isNonStop  seatsRemaining  \\\n0               1           False         False      False               0   \n1               0           False         False       True               0   \n2               0           False         False       True               0   \n3               1           False         False      False               0   \n4               1           False         False      False               0   \n...           ...             ...           ...        ...             ...   \n88784           0           False         False      False               7   \n88785           0           False         False      False               7   \n88786           0           False         False      False               7   \n88787           0           False         False       True               9   \n88788           0           False         False      False               9   \n\n       totalTravelDistance  total_waiting_time  baseFare  totalFare  \n0                      NaN                4.37     21.11      91.29  \n1                      NaN                0.00     43.00      99.89  \n2                      NaN                0.00     43.00      99.89  \n3                      NaN                0.92     33.00     103.18  \n4                      NaN                1.92     33.00     103.18  \n...                    ...                 ...       ...        ...  \n88784               1135.0                1.67    175.81     213.20  \n88785               1524.0                1.02    175.81     213.20  \n88786               1492.0                1.85    202.79     242.20  \n88787                600.0                0.00    226.98     258.90  \n88788                844.0                0.57    226.98     268.20  \n\n[88789 rows x 22 columns]",
      "text/html": "<div>\n<style scoped>\n    .dataframe tbody tr th:only-of-type {\n        vertical-align: middle;\n    }\n\n    .dataframe tbody tr th {\n        vertical-align: top;\n    }\n\n    .dataframe thead th {\n        text-align: right;\n    }\n</style>\n<table border=\"1\" class=\"dataframe\">\n  <thead>\n    <tr style=\"text-align: right;\">\n      <th></th>\n      <th>days_to_depart</th>\n      <th>flight_day_of_week</th>\n      <th>startingAirport</th>\n      <th>destinationAirport</th>\n      <th>departure_time</th>\n      <th>arriving_time</th>\n      <th>isDeparture_time_6to18</th>\n      <th>isArriving_time_11to24</th>\n      <th>stops</th>\n      <th>route</th>\n      <th>...</th>\n      <th>travelDuration_h</th>\n      <th>elapsedDays</th>\n      <th>isBasicEconomy</th>\n      <th>isRefundable</th>\n      <th>isNonStop</th>\n      <th>seatsRemaining</th>\n      <th>totalTravelDistance</th>\n      <th>total_waiting_time</th>\n      <th>baseFare</th>\n      <th>totalFare</th>\n    </tr>\n  </thead>\n  <tbody>\n    <tr>\n      <th>0</th>\n      <td>44</td>\n      <td>3</td>\n      <td>LAX</td>\n      <td>ORD</td>\n      <td>12:55:00</td>\n      <td>00:54:00</td>\n      <td>True</td>\n      <td>False</td>\n      <td>1</td>\n      <td>LAX-&gt;DFW-&gt;ORD</td>\n      <td>...</td>\n      <td>9.983333</td>\n      <td>1</td>\n      <td>False</td>\n      <td>False</td>\n      <td>False</td>\n      <td>0</td>\n      <td>NaN</td>\n      <td>4.37</td>\n      <td>21.11</td>\n      <td>91.29</td>\n    </tr>\n    <tr>\n      <th>1</th>\n      <td>44</td>\n      <td>3</td>\n      <td>LAX</td>\n      <td>ORD</td>\n      <td>15:21:00</td>\n      <td>21:24:00</td>\n      <td>True</td>\n      <td>True</td>\n      <td>0</td>\n      <td>LAX-&gt;ORD</td>\n      <td>...</td>\n      <td>4.050000</td>\n      <td>0</td>\n      <td>False</td>\n      <td>False</td>\n      <td>True</td>\n      <td>0</td>\n      <td>NaN</td>\n      <td>0.00</td>\n      <td>43.00</td>\n      <td>99.89</td>\n    </tr>\n    <tr>\n      <th>2</th>\n      <td>44</td>\n      <td>3</td>\n      <td>LAX</td>\n      <td>ORD</td>\n      <td>07:00:00</td>\n      <td>13:04:00</td>\n      <td>True</td>\n      <td>True</td>\n      <td>0</td>\n      <td>LAX-&gt;ORD</td>\n      <td>...</td>\n      <td>4.066667</td>\n      <td>0</td>\n      <td>False</td>\n      <td>False</td>\n      <td>True</td>\n      <td>0</td>\n      <td>NaN</td>\n      <td>0.00</td>\n      <td>43.00</td>\n      <td>99.89</td>\n    </tr>\n    <tr>\n      <th>3</th>\n      <td>44</td>\n      <td>3</td>\n      <td>LAX</td>\n      <td>ORD</td>\n      <td>20:25:00</td>\n      <td>04:13:00</td>\n      <td>False</td>\n      <td>False</td>\n      <td>1</td>\n      <td>LAX-&gt;LAS-&gt;ORD</td>\n      <td>...</td>\n      <td>5.800000</td>\n      <td>1</td>\n      <td>False</td>\n      <td>False</td>\n      <td>False</td>\n      <td>0</td>\n      <td>NaN</td>\n      <td>0.92</td>\n      <td>33.00</td>\n      <td>103.18</td>\n    </tr>\n    <tr>\n      <th>4</th>\n      <td>44</td>\n      <td>3</td>\n      <td>LAX</td>\n      <td>ORD</td>\n      <td>19:25:00</td>\n      <td>04:13:00</td>\n      <td>False</td>\n      <td>False</td>\n      <td>1</td>\n      <td>LAX-&gt;LAS-&gt;ORD</td>\n      <td>...</td>\n      <td>6.800000</td>\n      <td>1</td>\n      <td>False</td>\n      <td>False</td>\n      <td>False</td>\n      <td>0</td>\n      <td>NaN</td>\n      <td>1.92</td>\n      <td>33.00</td>\n      <td>103.18</td>\n    </tr>\n    <tr>\n      <th>...</th>\n      <td>...</td>\n      <td>...</td>\n      <td>...</td>\n      <td>...</td>\n      <td>...</td>\n      <td>...</td>\n      <td>...</td>\n      <td>...</td>\n      <td>...</td>\n      <td>...</td>\n      <td>...</td>\n      <td>...</td>\n      <td>...</td>\n      <td>...</td>\n      <td>...</td>\n      <td>...</td>\n      <td>...</td>\n      <td>...</td>\n      <td>...</td>\n      <td>...</td>\n      <td>...</td>\n    </tr>\n    <tr>\n      <th>88784</th>\n      <td>53</td>\n      <td>5</td>\n      <td>ATL</td>\n      <td>ORD</td>\n      <td>11:18:00</td>\n      <td>16:05:00</td>\n      <td>True</td>\n      <td>True</td>\n      <td>1</td>\n      <td>ATL-&gt;DCA-&gt;ORD</td>\n      <td>...</td>\n      <td>5.783333</td>\n      <td>0</td>\n      <td>False</td>\n      <td>False</td>\n      <td>False</td>\n      <td>7</td>\n      <td>1135.0</td>\n      <td>1.67</td>\n      <td>175.81</td>\n      <td>213.20</td>\n    </tr>\n    <tr>\n      <th>88785</th>\n      <td>53</td>\n      <td>5</td>\n      <td>ATL</td>\n      <td>ORD</td>\n      <td>12:24:00</td>\n      <td>17:15:00</td>\n      <td>True</td>\n      <td>True</td>\n      <td>1</td>\n      <td>ATL-&gt;DFW-&gt;ORD</td>\n      <td>...</td>\n      <td>5.850000</td>\n      <td>0</td>\n      <td>False</td>\n      <td>False</td>\n      <td>False</td>\n      <td>7</td>\n      <td>1524.0</td>\n      <td>1.02</td>\n      <td>175.81</td>\n      <td>213.20</td>\n    </tr>\n    <tr>\n      <th>88786</th>\n      <td>53</td>\n      <td>5</td>\n      <td>ATL</td>\n      <td>ORD</td>\n      <td>11:42:00</td>\n      <td>17:49:00</td>\n      <td>True</td>\n      <td>True</td>\n      <td>1</td>\n      <td>ATL-&gt;JFK-&gt;ORD</td>\n      <td>...</td>\n      <td>7.116667</td>\n      <td>0</td>\n      <td>False</td>\n      <td>False</td>\n      <td>False</td>\n      <td>7</td>\n      <td>1492.0</td>\n      <td>1.85</td>\n      <td>202.79</td>\n      <td>242.20</td>\n    </tr>\n    <tr>\n      <th>88787</th>\n      <td>53</td>\n      <td>5</td>\n      <td>ATL</td>\n      <td>ORD</td>\n      <td>17:45:00</td>\n      <td>18:59:00</td>\n      <td>True</td>\n      <td>True</td>\n      <td>0</td>\n      <td>ATL-&gt;ORD</td>\n      <td>...</td>\n      <td>2.233333</td>\n      <td>0</td>\n      <td>False</td>\n      <td>False</td>\n      <td>True</td>\n      <td>9</td>\n      <td>600.0</td>\n      <td>0.00</td>\n      <td>226.98</td>\n      <td>258.90</td>\n    </tr>\n    <tr>\n      <th>88788</th>\n      <td>53</td>\n      <td>5</td>\n      <td>ATL</td>\n      <td>ORD</td>\n      <td>18:15:00</td>\n      <td>21:06:00</td>\n      <td>False</td>\n      <td>True</td>\n      <td>1</td>\n      <td>ATL-&gt;DTW-&gt;ORD</td>\n      <td>...</td>\n      <td>3.850000</td>\n      <td>0</td>\n      <td>False</td>\n      <td>False</td>\n      <td>False</td>\n      <td>9</td>\n      <td>844.0</td>\n      <td>0.57</td>\n      <td>226.98</td>\n      <td>268.20</td>\n    </tr>\n  </tbody>\n</table>\n<p>88789 rows × 22 columns</p>\n</div>"
     },
     "execution_count": 7,
     "metadata": {},
     "output_type": "execute_result"
    }
   ],
   "source": [
    "data = pd.read_csv('data/EDA_data.csv')\n",
    "data"
   ],
   "metadata": {
    "collapsed": false
   }
  },
  {
   "cell_type": "code",
   "execution_count": 8,
   "outputs": [
    {
     "data": {
      "text/plain": "days_to_depart                0\nflight_day_of_week            0\nstartingAirport               0\ndestinationAirport            0\ndeparture_time                0\narriving_time                 0\nisDeparture_time_6to18        0\nisArriving_time_11to24        0\nstops                         0\nroute                         0\nclass                         0\nairline                       0\ntravelDuration_h              0\nelapsedDays                   0\nisBasicEconomy                0\nisRefundable                  0\nisNonStop                     0\nseatsRemaining                0\ntotalTravelDistance       10584\ntotal_waiting_time            0\nbaseFare                      0\ntotalFare                     0\ndtype: int64"
     },
     "execution_count": 8,
     "metadata": {},
     "output_type": "execute_result"
    }
   ],
   "source": [
    "data.isna().sum()"
   ],
   "metadata": {
    "collapsed": false
   }
  },
  {
   "cell_type": "markdown",
   "source": [
    "Add an indicator to this missing attributes"
   ],
   "metadata": {
    "collapsed": false
   }
  },
  {
   "cell_type": "code",
   "execution_count": 9,
   "outputs": [
    {
     "data": {
      "text/plain": "       days_to_depart  flight_day_of_week startingAirport destinationAirport  \\\n0                  44                   3             LAX                ORD   \n1                  44                   3             LAX                ORD   \n2                  44                   3             LAX                ORD   \n3                  44                   3             LAX                ORD   \n4                  44                   3             LAX                ORD   \n...               ...                 ...             ...                ...   \n88784              53                   5             ATL                ORD   \n88785              53                   5             ATL                ORD   \n88786              53                   5             ATL                ORD   \n88787              53                   5             ATL                ORD   \n88788              53                   5             ATL                ORD   \n\n      departure_time arriving_time  isDeparture_time_6to18  \\\n0           12:55:00      00:54:00                    True   \n1           15:21:00      21:24:00                    True   \n2           07:00:00      13:04:00                    True   \n3           20:25:00      04:13:00                   False   \n4           19:25:00      04:13:00                   False   \n...              ...           ...                     ...   \n88784       11:18:00      16:05:00                    True   \n88785       12:24:00      17:15:00                    True   \n88786       11:42:00      17:49:00                    True   \n88787       17:45:00      18:59:00                    True   \n88788       18:15:00      21:06:00                   False   \n\n       isArriving_time_11to24  stops          route  ... elapsedDays  \\\n0                       False      1  LAX->DFW->ORD  ...           1   \n1                        True      0       LAX->ORD  ...           0   \n2                        True      0       LAX->ORD  ...           0   \n3                       False      1  LAX->LAS->ORD  ...           1   \n4                       False      1  LAX->LAS->ORD  ...           1   \n...                       ...    ...            ...  ...         ...   \n88784                    True      1  ATL->DCA->ORD  ...           0   \n88785                    True      1  ATL->DFW->ORD  ...           0   \n88786                    True      1  ATL->JFK->ORD  ...           0   \n88787                    True      0       ATL->ORD  ...           0   \n88788                    True      1  ATL->DTW->ORD  ...           0   \n\n      isBasicEconomy  isRefundable  isNonStop  seatsRemaining  \\\n0              False         False      False               0   \n1              False         False       True               0   \n2              False         False       True               0   \n3              False         False      False               0   \n4              False         False      False               0   \n...              ...           ...        ...             ...   \n88784          False         False      False               7   \n88785          False         False      False               7   \n88786          False         False      False               7   \n88787          False         False       True               9   \n88788          False         False      False               9   \n\n       totalTravelDistance  total_waiting_time  baseFare  totalFare  \\\n0                      NaN                4.37     21.11      91.29   \n1                      NaN                0.00     43.00      99.89   \n2                      NaN                0.00     43.00      99.89   \n3                      NaN                0.92     33.00     103.18   \n4                      NaN                1.92     33.00     103.18   \n...                    ...                 ...       ...        ...   \n88784               1135.0                1.67    175.81     213.20   \n88785               1524.0                1.02    175.81     213.20   \n88786               1492.0                1.85    202.79     242.20   \n88787                600.0                0.00    226.98     258.90   \n88788                844.0                0.57    226.98     268.20   \n\n       isTravel_dist_available  \n0                        False  \n1                        False  \n2                        False  \n3                        False  \n4                        False  \n...                        ...  \n88784                     True  \n88785                     True  \n88786                     True  \n88787                     True  \n88788                     True  \n\n[88789 rows x 23 columns]",
      "text/html": "<div>\n<style scoped>\n    .dataframe tbody tr th:only-of-type {\n        vertical-align: middle;\n    }\n\n    .dataframe tbody tr th {\n        vertical-align: top;\n    }\n\n    .dataframe thead th {\n        text-align: right;\n    }\n</style>\n<table border=\"1\" class=\"dataframe\">\n  <thead>\n    <tr style=\"text-align: right;\">\n      <th></th>\n      <th>days_to_depart</th>\n      <th>flight_day_of_week</th>\n      <th>startingAirport</th>\n      <th>destinationAirport</th>\n      <th>departure_time</th>\n      <th>arriving_time</th>\n      <th>isDeparture_time_6to18</th>\n      <th>isArriving_time_11to24</th>\n      <th>stops</th>\n      <th>route</th>\n      <th>...</th>\n      <th>elapsedDays</th>\n      <th>isBasicEconomy</th>\n      <th>isRefundable</th>\n      <th>isNonStop</th>\n      <th>seatsRemaining</th>\n      <th>totalTravelDistance</th>\n      <th>total_waiting_time</th>\n      <th>baseFare</th>\n      <th>totalFare</th>\n      <th>isTravel_dist_available</th>\n    </tr>\n  </thead>\n  <tbody>\n    <tr>\n      <th>0</th>\n      <td>44</td>\n      <td>3</td>\n      <td>LAX</td>\n      <td>ORD</td>\n      <td>12:55:00</td>\n      <td>00:54:00</td>\n      <td>True</td>\n      <td>False</td>\n      <td>1</td>\n      <td>LAX-&gt;DFW-&gt;ORD</td>\n      <td>...</td>\n      <td>1</td>\n      <td>False</td>\n      <td>False</td>\n      <td>False</td>\n      <td>0</td>\n      <td>NaN</td>\n      <td>4.37</td>\n      <td>21.11</td>\n      <td>91.29</td>\n      <td>False</td>\n    </tr>\n    <tr>\n      <th>1</th>\n      <td>44</td>\n      <td>3</td>\n      <td>LAX</td>\n      <td>ORD</td>\n      <td>15:21:00</td>\n      <td>21:24:00</td>\n      <td>True</td>\n      <td>True</td>\n      <td>0</td>\n      <td>LAX-&gt;ORD</td>\n      <td>...</td>\n      <td>0</td>\n      <td>False</td>\n      <td>False</td>\n      <td>True</td>\n      <td>0</td>\n      <td>NaN</td>\n      <td>0.00</td>\n      <td>43.00</td>\n      <td>99.89</td>\n      <td>False</td>\n    </tr>\n    <tr>\n      <th>2</th>\n      <td>44</td>\n      <td>3</td>\n      <td>LAX</td>\n      <td>ORD</td>\n      <td>07:00:00</td>\n      <td>13:04:00</td>\n      <td>True</td>\n      <td>True</td>\n      <td>0</td>\n      <td>LAX-&gt;ORD</td>\n      <td>...</td>\n      <td>0</td>\n      <td>False</td>\n      <td>False</td>\n      <td>True</td>\n      <td>0</td>\n      <td>NaN</td>\n      <td>0.00</td>\n      <td>43.00</td>\n      <td>99.89</td>\n      <td>False</td>\n    </tr>\n    <tr>\n      <th>3</th>\n      <td>44</td>\n      <td>3</td>\n      <td>LAX</td>\n      <td>ORD</td>\n      <td>20:25:00</td>\n      <td>04:13:00</td>\n      <td>False</td>\n      <td>False</td>\n      <td>1</td>\n      <td>LAX-&gt;LAS-&gt;ORD</td>\n      <td>...</td>\n      <td>1</td>\n      <td>False</td>\n      <td>False</td>\n      <td>False</td>\n      <td>0</td>\n      <td>NaN</td>\n      <td>0.92</td>\n      <td>33.00</td>\n      <td>103.18</td>\n      <td>False</td>\n    </tr>\n    <tr>\n      <th>4</th>\n      <td>44</td>\n      <td>3</td>\n      <td>LAX</td>\n      <td>ORD</td>\n      <td>19:25:00</td>\n      <td>04:13:00</td>\n      <td>False</td>\n      <td>False</td>\n      <td>1</td>\n      <td>LAX-&gt;LAS-&gt;ORD</td>\n      <td>...</td>\n      <td>1</td>\n      <td>False</td>\n      <td>False</td>\n      <td>False</td>\n      <td>0</td>\n      <td>NaN</td>\n      <td>1.92</td>\n      <td>33.00</td>\n      <td>103.18</td>\n      <td>False</td>\n    </tr>\n    <tr>\n      <th>...</th>\n      <td>...</td>\n      <td>...</td>\n      <td>...</td>\n      <td>...</td>\n      <td>...</td>\n      <td>...</td>\n      <td>...</td>\n      <td>...</td>\n      <td>...</td>\n      <td>...</td>\n      <td>...</td>\n      <td>...</td>\n      <td>...</td>\n      <td>...</td>\n      <td>...</td>\n      <td>...</td>\n      <td>...</td>\n      <td>...</td>\n      <td>...</td>\n      <td>...</td>\n      <td>...</td>\n    </tr>\n    <tr>\n      <th>88784</th>\n      <td>53</td>\n      <td>5</td>\n      <td>ATL</td>\n      <td>ORD</td>\n      <td>11:18:00</td>\n      <td>16:05:00</td>\n      <td>True</td>\n      <td>True</td>\n      <td>1</td>\n      <td>ATL-&gt;DCA-&gt;ORD</td>\n      <td>...</td>\n      <td>0</td>\n      <td>False</td>\n      <td>False</td>\n      <td>False</td>\n      <td>7</td>\n      <td>1135.0</td>\n      <td>1.67</td>\n      <td>175.81</td>\n      <td>213.20</td>\n      <td>True</td>\n    </tr>\n    <tr>\n      <th>88785</th>\n      <td>53</td>\n      <td>5</td>\n      <td>ATL</td>\n      <td>ORD</td>\n      <td>12:24:00</td>\n      <td>17:15:00</td>\n      <td>True</td>\n      <td>True</td>\n      <td>1</td>\n      <td>ATL-&gt;DFW-&gt;ORD</td>\n      <td>...</td>\n      <td>0</td>\n      <td>False</td>\n      <td>False</td>\n      <td>False</td>\n      <td>7</td>\n      <td>1524.0</td>\n      <td>1.02</td>\n      <td>175.81</td>\n      <td>213.20</td>\n      <td>True</td>\n    </tr>\n    <tr>\n      <th>88786</th>\n      <td>53</td>\n      <td>5</td>\n      <td>ATL</td>\n      <td>ORD</td>\n      <td>11:42:00</td>\n      <td>17:49:00</td>\n      <td>True</td>\n      <td>True</td>\n      <td>1</td>\n      <td>ATL-&gt;JFK-&gt;ORD</td>\n      <td>...</td>\n      <td>0</td>\n      <td>False</td>\n      <td>False</td>\n      <td>False</td>\n      <td>7</td>\n      <td>1492.0</td>\n      <td>1.85</td>\n      <td>202.79</td>\n      <td>242.20</td>\n      <td>True</td>\n    </tr>\n    <tr>\n      <th>88787</th>\n      <td>53</td>\n      <td>5</td>\n      <td>ATL</td>\n      <td>ORD</td>\n      <td>17:45:00</td>\n      <td>18:59:00</td>\n      <td>True</td>\n      <td>True</td>\n      <td>0</td>\n      <td>ATL-&gt;ORD</td>\n      <td>...</td>\n      <td>0</td>\n      <td>False</td>\n      <td>False</td>\n      <td>True</td>\n      <td>9</td>\n      <td>600.0</td>\n      <td>0.00</td>\n      <td>226.98</td>\n      <td>258.90</td>\n      <td>True</td>\n    </tr>\n    <tr>\n      <th>88788</th>\n      <td>53</td>\n      <td>5</td>\n      <td>ATL</td>\n      <td>ORD</td>\n      <td>18:15:00</td>\n      <td>21:06:00</td>\n      <td>False</td>\n      <td>True</td>\n      <td>1</td>\n      <td>ATL-&gt;DTW-&gt;ORD</td>\n      <td>...</td>\n      <td>0</td>\n      <td>False</td>\n      <td>False</td>\n      <td>False</td>\n      <td>9</td>\n      <td>844.0</td>\n      <td>0.57</td>\n      <td>226.98</td>\n      <td>268.20</td>\n      <td>True</td>\n    </tr>\n  </tbody>\n</table>\n<p>88789 rows × 23 columns</p>\n</div>"
     },
     "execution_count": 9,
     "metadata": {},
     "output_type": "execute_result"
    }
   ],
   "source": [
    "data['isTravel_dist_available'] = -data['totalTravelDistance'].isna()\n",
    "data"
   ],
   "metadata": {
    "collapsed": false
   }
  },
  {
   "cell_type": "markdown",
   "source": [
    "Based on EDA, we shall drop the following variables"
   ],
   "metadata": {
    "collapsed": false
   }
  },
  {
   "cell_type": "code",
   "execution_count": 10,
   "outputs": [],
   "source": [
    "data = data.drop('departure_time',axis=1)\n",
    "data = data.drop('arriving_time',axis=1)\n",
    "data = data.drop('isRefundable',axis=1)"
   ],
   "metadata": {
    "collapsed": false
   }
  },
  {
   "cell_type": "markdown",
   "source": [
    "### Transform data\n",
    "\n",
    "Transform categorical data to dummmies. By one-hot encoder\n",
    "\n",
    "*Noticed that we need to do this before split train and test, since it may cause different features between train and test if doing after splitting.*"
   ],
   "metadata": {
    "collapsed": false
   }
  },
  {
   "cell_type": "code",
   "execution_count": 11,
   "outputs": [],
   "source": [
    "def transform_cate_data(df1, ignore_route=True):\n",
    "    df = df1.copy()\n",
    "    bool_cols = df.select_dtypes(include=['bool']).columns.tolist()\n",
    "    df[bool_cols] = df[bool_cols].astype(float)\n",
    "    cat_cols = df.select_dtypes(include=['object']).columns.tolist()\n",
    "    if ignore_route == True:\n",
    "        cat_cols = list(set(cat_cols) - {'route'})\n",
    "    ohe = OneHotEncoder(sparse_output=False)\n",
    "    cat_transformed = ohe.fit_transform(df[cat_cols])\n",
    "    df_transformed = pd.concat(\n",
    "        [df.drop(cat_cols, axis=1), pd.DataFrame(cat_transformed, columns=ohe.get_feature_names_out(cat_cols))], axis=1)\n",
    "    return df_transformed"
   ],
   "metadata": {
    "collapsed": false
   }
  },
  {
   "cell_type": "code",
   "execution_count": 12,
   "outputs": [],
   "source": [
    "data = transform_cate_data(data, ignore_route=True)"
   ],
   "metadata": {
    "collapsed": false
   }
  },
  {
   "cell_type": "code",
   "execution_count": 13,
   "outputs": [
    {
     "data": {
      "text/plain": "       days_to_depart  flight_day_of_week  isDeparture_time_6to18  \\\n0                  44                   3                     1.0   \n1                  44                   3                     1.0   \n2                  44                   3                     1.0   \n3                  44                   3                     0.0   \n4                  44                   3                     0.0   \n...               ...                 ...                     ...   \n88784              53                   5                     1.0   \n88785              53                   5                     1.0   \n88786              53                   5                     1.0   \n88787              53                   5                     1.0   \n88788              53                   5                     0.0   \n\n       isArriving_time_11to24  stops          route  travelDuration_h  \\\n0                         0.0      1  LAX->DFW->ORD          9.983333   \n1                         1.0      0       LAX->ORD          4.050000   \n2                         1.0      0       LAX->ORD          4.066667   \n3                         0.0      1  LAX->LAS->ORD          5.800000   \n4                         0.0      1  LAX->LAS->ORD          6.800000   \n...                       ...    ...            ...               ...   \n88784                     1.0      1  ATL->DCA->ORD          5.783333   \n88785                     1.0      1  ATL->DFW->ORD          5.850000   \n88786                     1.0      1  ATL->JFK->ORD          7.116667   \n88787                     1.0      0       ATL->ORD          2.233333   \n88788                     1.0      1  ATL->DTW->ORD          3.850000   \n\n       elapsedDays  isBasicEconomy  isNonStop  ...  class_first  \\\n0                1             0.0        0.0  ...          0.0   \n1                0             0.0        1.0  ...          0.0   \n2                0             0.0        1.0  ...          0.0   \n3                1             0.0        0.0  ...          0.0   \n4                1             0.0        0.0  ...          0.0   \n...            ...             ...        ...  ...          ...   \n88784            0             0.0        0.0  ...          0.0   \n88785            0             0.0        0.0  ...          0.0   \n88786            0             0.0        0.0  ...          0.0   \n88787            0             0.0        1.0  ...          0.0   \n88788            0             0.0        0.0  ...          0.0   \n\n       class_first+coach  class_first+coach+first  class_premium coach  \\\n0                    0.0                      0.0                  0.0   \n1                    0.0                      0.0                  0.0   \n2                    0.0                      0.0                  0.0   \n3                    0.0                      0.0                  0.0   \n4                    0.0                      0.0                  0.0   \n...                  ...                      ...                  ...   \n88784                0.0                      0.0                  0.0   \n88785                0.0                      0.0                  0.0   \n88786                0.0                      0.0                  0.0   \n88787                0.0                      0.0                  0.0   \n88788                0.0                      0.0                  0.0   \n\n       class_premium coach+coach  destinationAirport_ATL  \\\n0                            0.0                     0.0   \n1                            0.0                     0.0   \n2                            0.0                     0.0   \n3                            0.0                     0.0   \n4                            0.0                     0.0   \n...                          ...                     ...   \n88784                        0.0                     0.0   \n88785                        0.0                     0.0   \n88786                        0.0                     0.0   \n88787                        0.0                     0.0   \n88788                        0.0                     0.0   \n\n       destinationAirport_DFW  destinationAirport_JFK  destinationAirport_LAX  \\\n0                         0.0                     0.0                     0.0   \n1                         0.0                     0.0                     0.0   \n2                         0.0                     0.0                     0.0   \n3                         0.0                     0.0                     0.0   \n4                         0.0                     0.0                     0.0   \n...                       ...                     ...                     ...   \n88784                     0.0                     0.0                     0.0   \n88785                     0.0                     0.0                     0.0   \n88786                     0.0                     0.0                     0.0   \n88787                     0.0                     0.0                     0.0   \n88788                     0.0                     0.0                     0.0   \n\n       destinationAirport_ORD  \n0                         1.0  \n1                         1.0  \n2                         1.0  \n3                         1.0  \n4                         1.0  \n...                       ...  \n88784                     1.0  \n88785                     1.0  \n88786                     1.0  \n88787                     1.0  \n88788                     1.0  \n\n[88789 rows x 57 columns]",
      "text/html": "<div>\n<style scoped>\n    .dataframe tbody tr th:only-of-type {\n        vertical-align: middle;\n    }\n\n    .dataframe tbody tr th {\n        vertical-align: top;\n    }\n\n    .dataframe thead th {\n        text-align: right;\n    }\n</style>\n<table border=\"1\" class=\"dataframe\">\n  <thead>\n    <tr style=\"text-align: right;\">\n      <th></th>\n      <th>days_to_depart</th>\n      <th>flight_day_of_week</th>\n      <th>isDeparture_time_6to18</th>\n      <th>isArriving_time_11to24</th>\n      <th>stops</th>\n      <th>route</th>\n      <th>travelDuration_h</th>\n      <th>elapsedDays</th>\n      <th>isBasicEconomy</th>\n      <th>isNonStop</th>\n      <th>...</th>\n      <th>class_first</th>\n      <th>class_first+coach</th>\n      <th>class_first+coach+first</th>\n      <th>class_premium coach</th>\n      <th>class_premium coach+coach</th>\n      <th>destinationAirport_ATL</th>\n      <th>destinationAirport_DFW</th>\n      <th>destinationAirport_JFK</th>\n      <th>destinationAirport_LAX</th>\n      <th>destinationAirport_ORD</th>\n    </tr>\n  </thead>\n  <tbody>\n    <tr>\n      <th>0</th>\n      <td>44</td>\n      <td>3</td>\n      <td>1.0</td>\n      <td>0.0</td>\n      <td>1</td>\n      <td>LAX-&gt;DFW-&gt;ORD</td>\n      <td>9.983333</td>\n      <td>1</td>\n      <td>0.0</td>\n      <td>0.0</td>\n      <td>...</td>\n      <td>0.0</td>\n      <td>0.0</td>\n      <td>0.0</td>\n      <td>0.0</td>\n      <td>0.0</td>\n      <td>0.0</td>\n      <td>0.0</td>\n      <td>0.0</td>\n      <td>0.0</td>\n      <td>1.0</td>\n    </tr>\n    <tr>\n      <th>1</th>\n      <td>44</td>\n      <td>3</td>\n      <td>1.0</td>\n      <td>1.0</td>\n      <td>0</td>\n      <td>LAX-&gt;ORD</td>\n      <td>4.050000</td>\n      <td>0</td>\n      <td>0.0</td>\n      <td>1.0</td>\n      <td>...</td>\n      <td>0.0</td>\n      <td>0.0</td>\n      <td>0.0</td>\n      <td>0.0</td>\n      <td>0.0</td>\n      <td>0.0</td>\n      <td>0.0</td>\n      <td>0.0</td>\n      <td>0.0</td>\n      <td>1.0</td>\n    </tr>\n    <tr>\n      <th>2</th>\n      <td>44</td>\n      <td>3</td>\n      <td>1.0</td>\n      <td>1.0</td>\n      <td>0</td>\n      <td>LAX-&gt;ORD</td>\n      <td>4.066667</td>\n      <td>0</td>\n      <td>0.0</td>\n      <td>1.0</td>\n      <td>...</td>\n      <td>0.0</td>\n      <td>0.0</td>\n      <td>0.0</td>\n      <td>0.0</td>\n      <td>0.0</td>\n      <td>0.0</td>\n      <td>0.0</td>\n      <td>0.0</td>\n      <td>0.0</td>\n      <td>1.0</td>\n    </tr>\n    <tr>\n      <th>3</th>\n      <td>44</td>\n      <td>3</td>\n      <td>0.0</td>\n      <td>0.0</td>\n      <td>1</td>\n      <td>LAX-&gt;LAS-&gt;ORD</td>\n      <td>5.800000</td>\n      <td>1</td>\n      <td>0.0</td>\n      <td>0.0</td>\n      <td>...</td>\n      <td>0.0</td>\n      <td>0.0</td>\n      <td>0.0</td>\n      <td>0.0</td>\n      <td>0.0</td>\n      <td>0.0</td>\n      <td>0.0</td>\n      <td>0.0</td>\n      <td>0.0</td>\n      <td>1.0</td>\n    </tr>\n    <tr>\n      <th>4</th>\n      <td>44</td>\n      <td>3</td>\n      <td>0.0</td>\n      <td>0.0</td>\n      <td>1</td>\n      <td>LAX-&gt;LAS-&gt;ORD</td>\n      <td>6.800000</td>\n      <td>1</td>\n      <td>0.0</td>\n      <td>0.0</td>\n      <td>...</td>\n      <td>0.0</td>\n      <td>0.0</td>\n      <td>0.0</td>\n      <td>0.0</td>\n      <td>0.0</td>\n      <td>0.0</td>\n      <td>0.0</td>\n      <td>0.0</td>\n      <td>0.0</td>\n      <td>1.0</td>\n    </tr>\n    <tr>\n      <th>...</th>\n      <td>...</td>\n      <td>...</td>\n      <td>...</td>\n      <td>...</td>\n      <td>...</td>\n      <td>...</td>\n      <td>...</td>\n      <td>...</td>\n      <td>...</td>\n      <td>...</td>\n      <td>...</td>\n      <td>...</td>\n      <td>...</td>\n      <td>...</td>\n      <td>...</td>\n      <td>...</td>\n      <td>...</td>\n      <td>...</td>\n      <td>...</td>\n      <td>...</td>\n      <td>...</td>\n    </tr>\n    <tr>\n      <th>88784</th>\n      <td>53</td>\n      <td>5</td>\n      <td>1.0</td>\n      <td>1.0</td>\n      <td>1</td>\n      <td>ATL-&gt;DCA-&gt;ORD</td>\n      <td>5.783333</td>\n      <td>0</td>\n      <td>0.0</td>\n      <td>0.0</td>\n      <td>...</td>\n      <td>0.0</td>\n      <td>0.0</td>\n      <td>0.0</td>\n      <td>0.0</td>\n      <td>0.0</td>\n      <td>0.0</td>\n      <td>0.0</td>\n      <td>0.0</td>\n      <td>0.0</td>\n      <td>1.0</td>\n    </tr>\n    <tr>\n      <th>88785</th>\n      <td>53</td>\n      <td>5</td>\n      <td>1.0</td>\n      <td>1.0</td>\n      <td>1</td>\n      <td>ATL-&gt;DFW-&gt;ORD</td>\n      <td>5.850000</td>\n      <td>0</td>\n      <td>0.0</td>\n      <td>0.0</td>\n      <td>...</td>\n      <td>0.0</td>\n      <td>0.0</td>\n      <td>0.0</td>\n      <td>0.0</td>\n      <td>0.0</td>\n      <td>0.0</td>\n      <td>0.0</td>\n      <td>0.0</td>\n      <td>0.0</td>\n      <td>1.0</td>\n    </tr>\n    <tr>\n      <th>88786</th>\n      <td>53</td>\n      <td>5</td>\n      <td>1.0</td>\n      <td>1.0</td>\n      <td>1</td>\n      <td>ATL-&gt;JFK-&gt;ORD</td>\n      <td>7.116667</td>\n      <td>0</td>\n      <td>0.0</td>\n      <td>0.0</td>\n      <td>...</td>\n      <td>0.0</td>\n      <td>0.0</td>\n      <td>0.0</td>\n      <td>0.0</td>\n      <td>0.0</td>\n      <td>0.0</td>\n      <td>0.0</td>\n      <td>0.0</td>\n      <td>0.0</td>\n      <td>1.0</td>\n    </tr>\n    <tr>\n      <th>88787</th>\n      <td>53</td>\n      <td>5</td>\n      <td>1.0</td>\n      <td>1.0</td>\n      <td>0</td>\n      <td>ATL-&gt;ORD</td>\n      <td>2.233333</td>\n      <td>0</td>\n      <td>0.0</td>\n      <td>1.0</td>\n      <td>...</td>\n      <td>0.0</td>\n      <td>0.0</td>\n      <td>0.0</td>\n      <td>0.0</td>\n      <td>0.0</td>\n      <td>0.0</td>\n      <td>0.0</td>\n      <td>0.0</td>\n      <td>0.0</td>\n      <td>1.0</td>\n    </tr>\n    <tr>\n      <th>88788</th>\n      <td>53</td>\n      <td>5</td>\n      <td>0.0</td>\n      <td>1.0</td>\n      <td>1</td>\n      <td>ATL-&gt;DTW-&gt;ORD</td>\n      <td>3.850000</td>\n      <td>0</td>\n      <td>0.0</td>\n      <td>0.0</td>\n      <td>...</td>\n      <td>0.0</td>\n      <td>0.0</td>\n      <td>0.0</td>\n      <td>0.0</td>\n      <td>0.0</td>\n      <td>0.0</td>\n      <td>0.0</td>\n      <td>0.0</td>\n      <td>0.0</td>\n      <td>1.0</td>\n    </tr>\n  </tbody>\n</table>\n<p>88789 rows × 57 columns</p>\n</div>"
     },
     "execution_count": 13,
     "metadata": {},
     "output_type": "execute_result"
    }
   ],
   "source": [
    "data"
   ],
   "metadata": {
    "collapsed": false
   }
  },
  {
   "cell_type": "markdown",
   "source": [
    "### Split data into train and test set"
   ],
   "metadata": {
    "collapsed": false
   }
  },
  {
   "cell_type": "code",
   "execution_count": 14,
   "outputs": [],
   "source": [
    "# Split data into training and test sets\n",
    "train_data = data.sample(frac=0.8, random_state=41)\n",
    "test_data = data.drop(train_data.index)"
   ],
   "metadata": {
    "collapsed": false
   }
  },
  {
   "cell_type": "code",
   "execution_count": 15,
   "outputs": [
    {
     "data": {
      "text/plain": "       days_to_depart  flight_day_of_week  isDeparture_time_6to18  \\\n36737              39                   5                     1.0   \n37172              21                   1                     1.0   \n13133              14                   1                     1.0   \n38121              21                   1                     1.0   \n20022              27                   0                     1.0   \n...               ...                 ...                     ...   \n19743              27                   0                     1.0   \n43797              51                   3                     1.0   \n73695              23                   3                     1.0   \n73941              23                   3                     1.0   \n13787              13                   0                     1.0   \n\n       isArriving_time_11to24  stops               route  travelDuration_h  \\\n36737                     1.0      1       ORD->CLT->LAX          8.233333   \n37172                     1.0      0            LAX->DFW          3.100000   \n13133                     0.0      0            DFW->ORD          2.316667   \n38121                     1.0      2  JFK->RDU->IAH->DFW         10.150000   \n20022                     0.0      0            LAX->JFK          5.416667   \n...                       ...    ...                 ...               ...   \n19743                     1.0      0            JFK->ATL          2.566667   \n43797                     1.0      1       LAX->ORD->ATL          8.116667   \n73695                     1.0      1       JFK->PIT->DFW          7.133333   \n73941                     1.0      1       DFW->SGF->ORD          4.566667   \n13787                     1.0      0            ATL->LAX          5.066667   \n\n       elapsedDays  isBasicEconomy  isNonStop  ...  class_first  \\\n36737            0             1.0        0.0  ...          0.0   \n37172            0             1.0        1.0  ...          0.0   \n13133            0             0.0        1.0  ...          0.0   \n38121            0             0.0        0.0  ...          0.0   \n20022            1             0.0        1.0  ...          0.0   \n...            ...             ...        ...  ...          ...   \n19743            0             0.0        1.0  ...          0.0   \n43797            0             0.0        0.0  ...          0.0   \n73695            0             0.0        0.0  ...          0.0   \n73941            0             0.0        0.0  ...          0.0   \n13787            0             0.0        1.0  ...          0.0   \n\n       class_first+coach  class_first+coach+first  class_premium coach  \\\n36737                0.0                      0.0                  0.0   \n37172                0.0                      0.0                  0.0   \n13133                0.0                      0.0                  0.0   \n38121                0.0                      0.0                  0.0   \n20022                0.0                      0.0                  0.0   \n...                  ...                      ...                  ...   \n19743                0.0                      0.0                  0.0   \n43797                0.0                      0.0                  0.0   \n73695                0.0                      0.0                  0.0   \n73941                0.0                      0.0                  0.0   \n13787                0.0                      0.0                  0.0   \n\n       class_premium coach+coach  destinationAirport_ATL  \\\n36737                        0.0                     0.0   \n37172                        0.0                     0.0   \n13133                        0.0                     0.0   \n38121                        0.0                     0.0   \n20022                        0.0                     0.0   \n...                          ...                     ...   \n19743                        0.0                     1.0   \n43797                        0.0                     1.0   \n73695                        0.0                     0.0   \n73941                        0.0                     0.0   \n13787                        0.0                     0.0   \n\n       destinationAirport_DFW  destinationAirport_JFK  destinationAirport_LAX  \\\n36737                     0.0                     0.0                     1.0   \n37172                     1.0                     0.0                     0.0   \n13133                     0.0                     0.0                     0.0   \n38121                     1.0                     0.0                     0.0   \n20022                     0.0                     1.0                     0.0   \n...                       ...                     ...                     ...   \n19743                     0.0                     0.0                     0.0   \n43797                     0.0                     0.0                     0.0   \n73695                     1.0                     0.0                     0.0   \n73941                     0.0                     0.0                     0.0   \n13787                     0.0                     0.0                     1.0   \n\n       destinationAirport_ORD  \n36737                     0.0  \n37172                     0.0  \n13133                     1.0  \n38121                     0.0  \n20022                     0.0  \n...                       ...  \n19743                     0.0  \n43797                     0.0  \n73695                     0.0  \n73941                     1.0  \n13787                     0.0  \n\n[71031 rows x 57 columns]",
      "text/html": "<div>\n<style scoped>\n    .dataframe tbody tr th:only-of-type {\n        vertical-align: middle;\n    }\n\n    .dataframe tbody tr th {\n        vertical-align: top;\n    }\n\n    .dataframe thead th {\n        text-align: right;\n    }\n</style>\n<table border=\"1\" class=\"dataframe\">\n  <thead>\n    <tr style=\"text-align: right;\">\n      <th></th>\n      <th>days_to_depart</th>\n      <th>flight_day_of_week</th>\n      <th>isDeparture_time_6to18</th>\n      <th>isArriving_time_11to24</th>\n      <th>stops</th>\n      <th>route</th>\n      <th>travelDuration_h</th>\n      <th>elapsedDays</th>\n      <th>isBasicEconomy</th>\n      <th>isNonStop</th>\n      <th>...</th>\n      <th>class_first</th>\n      <th>class_first+coach</th>\n      <th>class_first+coach+first</th>\n      <th>class_premium coach</th>\n      <th>class_premium coach+coach</th>\n      <th>destinationAirport_ATL</th>\n      <th>destinationAirport_DFW</th>\n      <th>destinationAirport_JFK</th>\n      <th>destinationAirport_LAX</th>\n      <th>destinationAirport_ORD</th>\n    </tr>\n  </thead>\n  <tbody>\n    <tr>\n      <th>36737</th>\n      <td>39</td>\n      <td>5</td>\n      <td>1.0</td>\n      <td>1.0</td>\n      <td>1</td>\n      <td>ORD-&gt;CLT-&gt;LAX</td>\n      <td>8.233333</td>\n      <td>0</td>\n      <td>1.0</td>\n      <td>0.0</td>\n      <td>...</td>\n      <td>0.0</td>\n      <td>0.0</td>\n      <td>0.0</td>\n      <td>0.0</td>\n      <td>0.0</td>\n      <td>0.0</td>\n      <td>0.0</td>\n      <td>0.0</td>\n      <td>1.0</td>\n      <td>0.0</td>\n    </tr>\n    <tr>\n      <th>37172</th>\n      <td>21</td>\n      <td>1</td>\n      <td>1.0</td>\n      <td>1.0</td>\n      <td>0</td>\n      <td>LAX-&gt;DFW</td>\n      <td>3.100000</td>\n      <td>0</td>\n      <td>1.0</td>\n      <td>1.0</td>\n      <td>...</td>\n      <td>0.0</td>\n      <td>0.0</td>\n      <td>0.0</td>\n      <td>0.0</td>\n      <td>0.0</td>\n      <td>0.0</td>\n      <td>1.0</td>\n      <td>0.0</td>\n      <td>0.0</td>\n      <td>0.0</td>\n    </tr>\n    <tr>\n      <th>13133</th>\n      <td>14</td>\n      <td>1</td>\n      <td>1.0</td>\n      <td>0.0</td>\n      <td>0</td>\n      <td>DFW-&gt;ORD</td>\n      <td>2.316667</td>\n      <td>0</td>\n      <td>0.0</td>\n      <td>1.0</td>\n      <td>...</td>\n      <td>0.0</td>\n      <td>0.0</td>\n      <td>0.0</td>\n      <td>0.0</td>\n      <td>0.0</td>\n      <td>0.0</td>\n      <td>0.0</td>\n      <td>0.0</td>\n      <td>0.0</td>\n      <td>1.0</td>\n    </tr>\n    <tr>\n      <th>38121</th>\n      <td>21</td>\n      <td>1</td>\n      <td>1.0</td>\n      <td>1.0</td>\n      <td>2</td>\n      <td>JFK-&gt;RDU-&gt;IAH-&gt;DFW</td>\n      <td>10.150000</td>\n      <td>0</td>\n      <td>0.0</td>\n      <td>0.0</td>\n      <td>...</td>\n      <td>0.0</td>\n      <td>0.0</td>\n      <td>0.0</td>\n      <td>0.0</td>\n      <td>0.0</td>\n      <td>0.0</td>\n      <td>1.0</td>\n      <td>0.0</td>\n      <td>0.0</td>\n      <td>0.0</td>\n    </tr>\n    <tr>\n      <th>20022</th>\n      <td>27</td>\n      <td>0</td>\n      <td>1.0</td>\n      <td>0.0</td>\n      <td>0</td>\n      <td>LAX-&gt;JFK</td>\n      <td>5.416667</td>\n      <td>1</td>\n      <td>0.0</td>\n      <td>1.0</td>\n      <td>...</td>\n      <td>0.0</td>\n      <td>0.0</td>\n      <td>0.0</td>\n      <td>0.0</td>\n      <td>0.0</td>\n      <td>0.0</td>\n      <td>0.0</td>\n      <td>1.0</td>\n      <td>0.0</td>\n      <td>0.0</td>\n    </tr>\n    <tr>\n      <th>...</th>\n      <td>...</td>\n      <td>...</td>\n      <td>...</td>\n      <td>...</td>\n      <td>...</td>\n      <td>...</td>\n      <td>...</td>\n      <td>...</td>\n      <td>...</td>\n      <td>...</td>\n      <td>...</td>\n      <td>...</td>\n      <td>...</td>\n      <td>...</td>\n      <td>...</td>\n      <td>...</td>\n      <td>...</td>\n      <td>...</td>\n      <td>...</td>\n      <td>...</td>\n      <td>...</td>\n    </tr>\n    <tr>\n      <th>19743</th>\n      <td>27</td>\n      <td>0</td>\n      <td>1.0</td>\n      <td>1.0</td>\n      <td>0</td>\n      <td>JFK-&gt;ATL</td>\n      <td>2.566667</td>\n      <td>0</td>\n      <td>0.0</td>\n      <td>1.0</td>\n      <td>...</td>\n      <td>0.0</td>\n      <td>0.0</td>\n      <td>0.0</td>\n      <td>0.0</td>\n      <td>0.0</td>\n      <td>1.0</td>\n      <td>0.0</td>\n      <td>0.0</td>\n      <td>0.0</td>\n      <td>0.0</td>\n    </tr>\n    <tr>\n      <th>43797</th>\n      <td>51</td>\n      <td>3</td>\n      <td>1.0</td>\n      <td>1.0</td>\n      <td>1</td>\n      <td>LAX-&gt;ORD-&gt;ATL</td>\n      <td>8.116667</td>\n      <td>0</td>\n      <td>0.0</td>\n      <td>0.0</td>\n      <td>...</td>\n      <td>0.0</td>\n      <td>0.0</td>\n      <td>0.0</td>\n      <td>0.0</td>\n      <td>0.0</td>\n      <td>1.0</td>\n      <td>0.0</td>\n      <td>0.0</td>\n      <td>0.0</td>\n      <td>0.0</td>\n    </tr>\n    <tr>\n      <th>73695</th>\n      <td>23</td>\n      <td>3</td>\n      <td>1.0</td>\n      <td>1.0</td>\n      <td>1</td>\n      <td>JFK-&gt;PIT-&gt;DFW</td>\n      <td>7.133333</td>\n      <td>0</td>\n      <td>0.0</td>\n      <td>0.0</td>\n      <td>...</td>\n      <td>0.0</td>\n      <td>0.0</td>\n      <td>0.0</td>\n      <td>0.0</td>\n      <td>0.0</td>\n      <td>0.0</td>\n      <td>1.0</td>\n      <td>0.0</td>\n      <td>0.0</td>\n      <td>0.0</td>\n    </tr>\n    <tr>\n      <th>73941</th>\n      <td>23</td>\n      <td>3</td>\n      <td>1.0</td>\n      <td>1.0</td>\n      <td>1</td>\n      <td>DFW-&gt;SGF-&gt;ORD</td>\n      <td>4.566667</td>\n      <td>0</td>\n      <td>0.0</td>\n      <td>0.0</td>\n      <td>...</td>\n      <td>0.0</td>\n      <td>0.0</td>\n      <td>0.0</td>\n      <td>0.0</td>\n      <td>0.0</td>\n      <td>0.0</td>\n      <td>0.0</td>\n      <td>0.0</td>\n      <td>0.0</td>\n      <td>1.0</td>\n    </tr>\n    <tr>\n      <th>13787</th>\n      <td>13</td>\n      <td>0</td>\n      <td>1.0</td>\n      <td>1.0</td>\n      <td>0</td>\n      <td>ATL-&gt;LAX</td>\n      <td>5.066667</td>\n      <td>0</td>\n      <td>0.0</td>\n      <td>1.0</td>\n      <td>...</td>\n      <td>0.0</td>\n      <td>0.0</td>\n      <td>0.0</td>\n      <td>0.0</td>\n      <td>0.0</td>\n      <td>0.0</td>\n      <td>0.0</td>\n      <td>0.0</td>\n      <td>1.0</td>\n      <td>0.0</td>\n    </tr>\n  </tbody>\n</table>\n<p>71031 rows × 57 columns</p>\n</div>"
     },
     "execution_count": 15,
     "metadata": {},
     "output_type": "execute_result"
    }
   ],
   "source": [
    "train_data"
   ],
   "metadata": {
    "collapsed": false
   }
  },
  {
   "cell_type": "code",
   "execution_count": 16,
   "outputs": [],
   "source": [
    "Y_train = train_data[['baseFare', 'totalFare']]\n",
    "X_train = train_data.drop(['baseFare', 'totalFare'], axis=1)\n",
    "Y_test = test_data[['baseFare', 'totalFare']]\n",
    "X_test = test_data.drop(['baseFare', 'totalFare'], axis=1)"
   ],
   "metadata": {
    "collapsed": false
   }
  },
  {
   "cell_type": "markdown",
   "source": [
    "### Dealing with NA data\n",
    "\n",
    "Here we impute by using the avg dist of same route."
   ],
   "metadata": {
    "collapsed": false
   }
  },
  {
   "cell_type": "code",
   "execution_count": 17,
   "outputs": [],
   "source": [
    "def fill_travel_distance(x, dict):\n",
    "    if x in list(dict.keys()):\n",
    "        value = dict[x]\n",
    "    else:\n",
    "        value = np.NAN\n",
    "    return value\n",
    "\n",
    "\n",
    "def fill_travel_dist_by_dict(traindf, testdf):\n",
    "    # fillNA by same route, avg distance, from train data\n",
    "    train = traindf.copy()\n",
    "    test = testdf.copy()\n",
    "    helper1 = train[-train['totalTravelDistance'].isna()][['totalTravelDistance', 'route']].groupby('route').mean()\n",
    "    helper1_dict = helper1.to_dict()['totalTravelDistance']\n",
    "    train['totalTravelDistance_helper'] = train['route'].apply(lambda x: fill_travel_distance(x, helper1_dict))\n",
    "    train['totalTravelDistance'] = train['totalTravelDistance_helper']\n",
    "    train = train.drop('totalTravelDistance_helper', axis=1)\n",
    "    test['totalTravelDistance_helper'] = test['route'].apply(lambda x: fill_travel_distance(x, helper1_dict))\n",
    "    test['totalTravelDistance'] = test['totalTravelDistance_helper']\n",
    "    test = test.drop('totalTravelDistance_helper', axis=1)\n",
    "    return train, test"
   ],
   "metadata": {
    "collapsed": false
   }
  },
  {
   "cell_type": "code",
   "execution_count": 18,
   "outputs": [],
   "source": [
    "X_train1, X_test1 = fill_travel_dist_by_dict(X_train, X_test)"
   ],
   "metadata": {
    "collapsed": false
   }
  },
  {
   "cell_type": "markdown",
   "source": [
    "### Then we apply cate transformer and use KNN to impute the missing value"
   ],
   "metadata": {
    "collapsed": false
   }
  },
  {
   "cell_type": "code",
   "execution_count": 19,
   "outputs": [
    {
     "data": {
      "text/plain": "       days_to_depart  flight_day_of_week  isDeparture_time_6to18  \\\n0                  39                   5                     1.0   \n1                  21                   1                     1.0   \n2                  14                   1                     1.0   \n3                  21                   1                     1.0   \n4                  27                   0                     1.0   \n...               ...                 ...                     ...   \n71026              27                   0                     1.0   \n71027              51                   3                     1.0   \n71028              23                   3                     1.0   \n71029              23                   3                     1.0   \n71030              13                   0                     1.0   \n\n       isArriving_time_11to24  stops               route  travelDuration_h  \\\n0                         1.0      1       ORD->CLT->LAX          8.233333   \n1                         1.0      0            LAX->DFW          3.100000   \n2                         0.0      0            DFW->ORD          2.316667   \n3                         1.0      2  JFK->RDU->IAH->DFW         10.150000   \n4                         0.0      0            LAX->JFK          5.416667   \n...                       ...    ...                 ...               ...   \n71026                     1.0      0            JFK->ATL          2.566667   \n71027                     1.0      1       LAX->ORD->ATL          8.116667   \n71028                     1.0      1       JFK->PIT->DFW          7.133333   \n71029                     1.0      1       DFW->SGF->ORD          4.566667   \n71030                     1.0      0            ATL->LAX          5.066667   \n\n       elapsedDays  isBasicEconomy  isNonStop  ...  class_first  \\\n0                0             1.0        0.0  ...          0.0   \n1                0             1.0        1.0  ...          0.0   \n2                0             0.0        1.0  ...          0.0   \n3                0             0.0        0.0  ...          0.0   \n4                1             0.0        1.0  ...          0.0   \n...            ...             ...        ...  ...          ...   \n71026            0             0.0        1.0  ...          0.0   \n71027            0             0.0        0.0  ...          0.0   \n71028            0             0.0        0.0  ...          0.0   \n71029            0             0.0        0.0  ...          0.0   \n71030            0             0.0        1.0  ...          0.0   \n\n       class_first+coach  class_first+coach+first  class_premium coach  \\\n0                    0.0                      0.0                  0.0   \n1                    0.0                      0.0                  0.0   \n2                    0.0                      0.0                  0.0   \n3                    0.0                      0.0                  0.0   \n4                    0.0                      0.0                  0.0   \n...                  ...                      ...                  ...   \n71026                0.0                      0.0                  0.0   \n71027                0.0                      0.0                  0.0   \n71028                0.0                      0.0                  0.0   \n71029                0.0                      0.0                  0.0   \n71030                0.0                      0.0                  0.0   \n\n       class_premium coach+coach  destinationAirport_ATL  \\\n0                            0.0                     0.0   \n1                            0.0                     0.0   \n2                            0.0                     0.0   \n3                            0.0                     0.0   \n4                            0.0                     0.0   \n...                          ...                     ...   \n71026                        0.0                     1.0   \n71027                        0.0                     1.0   \n71028                        0.0                     0.0   \n71029                        0.0                     0.0   \n71030                        0.0                     0.0   \n\n       destinationAirport_DFW  destinationAirport_JFK  destinationAirport_LAX  \\\n0                         0.0                     0.0                     1.0   \n1                         1.0                     0.0                     0.0   \n2                         0.0                     0.0                     0.0   \n3                         1.0                     0.0                     0.0   \n4                         0.0                     1.0                     0.0   \n...                       ...                     ...                     ...   \n71026                     0.0                     0.0                     0.0   \n71027                     0.0                     0.0                     0.0   \n71028                     1.0                     0.0                     0.0   \n71029                     0.0                     0.0                     0.0   \n71030                     0.0                     0.0                     1.0   \n\n       destinationAirport_ORD  \n0                         0.0  \n1                         0.0  \n2                         1.0  \n3                         0.0  \n4                         0.0  \n...                       ...  \n71026                     0.0  \n71027                     0.0  \n71028                     0.0  \n71029                     1.0  \n71030                     0.0  \n\n[71031 rows x 55 columns]",
      "text/html": "<div>\n<style scoped>\n    .dataframe tbody tr th:only-of-type {\n        vertical-align: middle;\n    }\n\n    .dataframe tbody tr th {\n        vertical-align: top;\n    }\n\n    .dataframe thead th {\n        text-align: right;\n    }\n</style>\n<table border=\"1\" class=\"dataframe\">\n  <thead>\n    <tr style=\"text-align: right;\">\n      <th></th>\n      <th>days_to_depart</th>\n      <th>flight_day_of_week</th>\n      <th>isDeparture_time_6to18</th>\n      <th>isArriving_time_11to24</th>\n      <th>stops</th>\n      <th>route</th>\n      <th>travelDuration_h</th>\n      <th>elapsedDays</th>\n      <th>isBasicEconomy</th>\n      <th>isNonStop</th>\n      <th>...</th>\n      <th>class_first</th>\n      <th>class_first+coach</th>\n      <th>class_first+coach+first</th>\n      <th>class_premium coach</th>\n      <th>class_premium coach+coach</th>\n      <th>destinationAirport_ATL</th>\n      <th>destinationAirport_DFW</th>\n      <th>destinationAirport_JFK</th>\n      <th>destinationAirport_LAX</th>\n      <th>destinationAirport_ORD</th>\n    </tr>\n  </thead>\n  <tbody>\n    <tr>\n      <th>0</th>\n      <td>39</td>\n      <td>5</td>\n      <td>1.0</td>\n      <td>1.0</td>\n      <td>1</td>\n      <td>ORD-&gt;CLT-&gt;LAX</td>\n      <td>8.233333</td>\n      <td>0</td>\n      <td>1.0</td>\n      <td>0.0</td>\n      <td>...</td>\n      <td>0.0</td>\n      <td>0.0</td>\n      <td>0.0</td>\n      <td>0.0</td>\n      <td>0.0</td>\n      <td>0.0</td>\n      <td>0.0</td>\n      <td>0.0</td>\n      <td>1.0</td>\n      <td>0.0</td>\n    </tr>\n    <tr>\n      <th>1</th>\n      <td>21</td>\n      <td>1</td>\n      <td>1.0</td>\n      <td>1.0</td>\n      <td>0</td>\n      <td>LAX-&gt;DFW</td>\n      <td>3.100000</td>\n      <td>0</td>\n      <td>1.0</td>\n      <td>1.0</td>\n      <td>...</td>\n      <td>0.0</td>\n      <td>0.0</td>\n      <td>0.0</td>\n      <td>0.0</td>\n      <td>0.0</td>\n      <td>0.0</td>\n      <td>1.0</td>\n      <td>0.0</td>\n      <td>0.0</td>\n      <td>0.0</td>\n    </tr>\n    <tr>\n      <th>2</th>\n      <td>14</td>\n      <td>1</td>\n      <td>1.0</td>\n      <td>0.0</td>\n      <td>0</td>\n      <td>DFW-&gt;ORD</td>\n      <td>2.316667</td>\n      <td>0</td>\n      <td>0.0</td>\n      <td>1.0</td>\n      <td>...</td>\n      <td>0.0</td>\n      <td>0.0</td>\n      <td>0.0</td>\n      <td>0.0</td>\n      <td>0.0</td>\n      <td>0.0</td>\n      <td>0.0</td>\n      <td>0.0</td>\n      <td>0.0</td>\n      <td>1.0</td>\n    </tr>\n    <tr>\n      <th>3</th>\n      <td>21</td>\n      <td>1</td>\n      <td>1.0</td>\n      <td>1.0</td>\n      <td>2</td>\n      <td>JFK-&gt;RDU-&gt;IAH-&gt;DFW</td>\n      <td>10.150000</td>\n      <td>0</td>\n      <td>0.0</td>\n      <td>0.0</td>\n      <td>...</td>\n      <td>0.0</td>\n      <td>0.0</td>\n      <td>0.0</td>\n      <td>0.0</td>\n      <td>0.0</td>\n      <td>0.0</td>\n      <td>1.0</td>\n      <td>0.0</td>\n      <td>0.0</td>\n      <td>0.0</td>\n    </tr>\n    <tr>\n      <th>4</th>\n      <td>27</td>\n      <td>0</td>\n      <td>1.0</td>\n      <td>0.0</td>\n      <td>0</td>\n      <td>LAX-&gt;JFK</td>\n      <td>5.416667</td>\n      <td>1</td>\n      <td>0.0</td>\n      <td>1.0</td>\n      <td>...</td>\n      <td>0.0</td>\n      <td>0.0</td>\n      <td>0.0</td>\n      <td>0.0</td>\n      <td>0.0</td>\n      <td>0.0</td>\n      <td>0.0</td>\n      <td>1.0</td>\n      <td>0.0</td>\n      <td>0.0</td>\n    </tr>\n    <tr>\n      <th>...</th>\n      <td>...</td>\n      <td>...</td>\n      <td>...</td>\n      <td>...</td>\n      <td>...</td>\n      <td>...</td>\n      <td>...</td>\n      <td>...</td>\n      <td>...</td>\n      <td>...</td>\n      <td>...</td>\n      <td>...</td>\n      <td>...</td>\n      <td>...</td>\n      <td>...</td>\n      <td>...</td>\n      <td>...</td>\n      <td>...</td>\n      <td>...</td>\n      <td>...</td>\n      <td>...</td>\n    </tr>\n    <tr>\n      <th>71026</th>\n      <td>27</td>\n      <td>0</td>\n      <td>1.0</td>\n      <td>1.0</td>\n      <td>0</td>\n      <td>JFK-&gt;ATL</td>\n      <td>2.566667</td>\n      <td>0</td>\n      <td>0.0</td>\n      <td>1.0</td>\n      <td>...</td>\n      <td>0.0</td>\n      <td>0.0</td>\n      <td>0.0</td>\n      <td>0.0</td>\n      <td>0.0</td>\n      <td>1.0</td>\n      <td>0.0</td>\n      <td>0.0</td>\n      <td>0.0</td>\n      <td>0.0</td>\n    </tr>\n    <tr>\n      <th>71027</th>\n      <td>51</td>\n      <td>3</td>\n      <td>1.0</td>\n      <td>1.0</td>\n      <td>1</td>\n      <td>LAX-&gt;ORD-&gt;ATL</td>\n      <td>8.116667</td>\n      <td>0</td>\n      <td>0.0</td>\n      <td>0.0</td>\n      <td>...</td>\n      <td>0.0</td>\n      <td>0.0</td>\n      <td>0.0</td>\n      <td>0.0</td>\n      <td>0.0</td>\n      <td>1.0</td>\n      <td>0.0</td>\n      <td>0.0</td>\n      <td>0.0</td>\n      <td>0.0</td>\n    </tr>\n    <tr>\n      <th>71028</th>\n      <td>23</td>\n      <td>3</td>\n      <td>1.0</td>\n      <td>1.0</td>\n      <td>1</td>\n      <td>JFK-&gt;PIT-&gt;DFW</td>\n      <td>7.133333</td>\n      <td>0</td>\n      <td>0.0</td>\n      <td>0.0</td>\n      <td>...</td>\n      <td>0.0</td>\n      <td>0.0</td>\n      <td>0.0</td>\n      <td>0.0</td>\n      <td>0.0</td>\n      <td>0.0</td>\n      <td>1.0</td>\n      <td>0.0</td>\n      <td>0.0</td>\n      <td>0.0</td>\n    </tr>\n    <tr>\n      <th>71029</th>\n      <td>23</td>\n      <td>3</td>\n      <td>1.0</td>\n      <td>1.0</td>\n      <td>1</td>\n      <td>DFW-&gt;SGF-&gt;ORD</td>\n      <td>4.566667</td>\n      <td>0</td>\n      <td>0.0</td>\n      <td>0.0</td>\n      <td>...</td>\n      <td>0.0</td>\n      <td>0.0</td>\n      <td>0.0</td>\n      <td>0.0</td>\n      <td>0.0</td>\n      <td>0.0</td>\n      <td>0.0</td>\n      <td>0.0</td>\n      <td>0.0</td>\n      <td>1.0</td>\n    </tr>\n    <tr>\n      <th>71030</th>\n      <td>13</td>\n      <td>0</td>\n      <td>1.0</td>\n      <td>1.0</td>\n      <td>0</td>\n      <td>ATL-&gt;LAX</td>\n      <td>5.066667</td>\n      <td>0</td>\n      <td>0.0</td>\n      <td>1.0</td>\n      <td>...</td>\n      <td>0.0</td>\n      <td>0.0</td>\n      <td>0.0</td>\n      <td>0.0</td>\n      <td>0.0</td>\n      <td>0.0</td>\n      <td>0.0</td>\n      <td>0.0</td>\n      <td>1.0</td>\n      <td>0.0</td>\n    </tr>\n  </tbody>\n</table>\n<p>71031 rows × 55 columns</p>\n</div>"
     },
     "execution_count": 19,
     "metadata": {},
     "output_type": "execute_result"
    }
   ],
   "source": [
    "X_train1 = X_train1.reset_index(drop=True)\n",
    "X_test1 = X_test1.reset_index(drop=True)\n",
    "X_train1"
   ],
   "metadata": {
    "collapsed": false
   }
  },
  {
   "cell_type": "code",
   "execution_count": 20,
   "outputs": [],
   "source": [
    "X_train2 = X_train1.drop('route', axis=1)\n",
    "X_test2 = X_test1.drop('route', axis=1)"
   ],
   "metadata": {
    "collapsed": false
   }
  },
  {
   "cell_type": "code",
   "execution_count": 21,
   "outputs": [],
   "source": [
    "from sklearn.impute import KNNImputer"
   ],
   "metadata": {
    "collapsed": false
   }
  },
  {
   "cell_type": "code",
   "execution_count": 22,
   "outputs": [],
   "source": [
    "# imputer = IterativeImputer(estimator=LinearRegression())\n",
    "imputer = KNNImputer(n_neighbors=5)\n",
    "X_train_imputed = imputer.fit_transform(X_train2)\n",
    "X_test_imputed = imputer.transform(X_test2)\n",
    "X_train_imputed = pd.DataFrame(X_train_imputed, columns=X_train2.columns)\n",
    "X_test_imputed = pd.DataFrame(X_test_imputed, columns=X_test2.columns)"
   ],
   "metadata": {
    "collapsed": false
   }
  },
  {
   "cell_type": "code",
   "execution_count": 23,
   "outputs": [
    {
     "data": {
      "text/plain": "       days_to_depart  flight_day_of_week  isDeparture_time_6to18  \\\n0                39.0                 5.0                     1.0   \n1                21.0                 1.0                     1.0   \n2                14.0                 1.0                     1.0   \n3                21.0                 1.0                     1.0   \n4                27.0                 0.0                     1.0   \n...               ...                 ...                     ...   \n71026            27.0                 0.0                     1.0   \n71027            51.0                 3.0                     1.0   \n71028            23.0                 3.0                     1.0   \n71029            23.0                 3.0                     1.0   \n71030            13.0                 0.0                     1.0   \n\n       isArriving_time_11to24  stops  travelDuration_h  elapsedDays  \\\n0                         1.0    1.0          8.233333          0.0   \n1                         1.0    0.0          3.100000          0.0   \n2                         0.0    0.0          2.316667          0.0   \n3                         1.0    2.0         10.150000          0.0   \n4                         0.0    0.0          5.416667          1.0   \n...                       ...    ...               ...          ...   \n71026                     1.0    0.0          2.566667          0.0   \n71027                     1.0    1.0          8.116667          0.0   \n71028                     1.0    1.0          7.133333          0.0   \n71029                     1.0    1.0          4.566667          0.0   \n71030                     1.0    0.0          5.066667          0.0   \n\n       isBasicEconomy  isNonStop  seatsRemaining  ...  class_first  \\\n0                 1.0        0.0             7.0  ...          0.0   \n1                 1.0        1.0             7.0  ...          0.0   \n2                 0.0        1.0             0.0  ...          0.0   \n3                 0.0        0.0             9.0  ...          0.0   \n4                 0.0        1.0             9.0  ...          0.0   \n...               ...        ...             ...  ...          ...   \n71026             0.0        1.0             7.0  ...          0.0   \n71027             0.0        0.0             3.0  ...          0.0   \n71028             0.0        0.0             5.0  ...          0.0   \n71029             0.0        0.0             2.0  ...          0.0   \n71030             0.0        1.0             4.0  ...          0.0   \n\n       class_first+coach  class_first+coach+first  class_premium coach  \\\n0                    0.0                      0.0                  0.0   \n1                    0.0                      0.0                  0.0   \n2                    0.0                      0.0                  0.0   \n3                    0.0                      0.0                  0.0   \n4                    0.0                      0.0                  0.0   \n...                  ...                      ...                  ...   \n71026                0.0                      0.0                  0.0   \n71027                0.0                      0.0                  0.0   \n71028                0.0                      0.0                  0.0   \n71029                0.0                      0.0                  0.0   \n71030                0.0                      0.0                  0.0   \n\n       class_premium coach+coach  destinationAirport_ATL  \\\n0                            0.0                     0.0   \n1                            0.0                     0.0   \n2                            0.0                     0.0   \n3                            0.0                     0.0   \n4                            0.0                     0.0   \n...                          ...                     ...   \n71026                        0.0                     1.0   \n71027                        0.0                     1.0   \n71028                        0.0                     0.0   \n71029                        0.0                     0.0   \n71030                        0.0                     0.0   \n\n       destinationAirport_DFW  destinationAirport_JFK  destinationAirport_LAX  \\\n0                         0.0                     0.0                     1.0   \n1                         1.0                     0.0                     0.0   \n2                         0.0                     0.0                     0.0   \n3                         1.0                     0.0                     0.0   \n4                         0.0                     1.0                     0.0   \n...                       ...                     ...                     ...   \n71026                     0.0                     0.0                     0.0   \n71027                     0.0                     0.0                     0.0   \n71028                     1.0                     0.0                     0.0   \n71029                     0.0                     0.0                     0.0   \n71030                     0.0                     0.0                     1.0   \n\n       destinationAirport_ORD  \n0                         0.0  \n1                         0.0  \n2                         1.0  \n3                         0.0  \n4                         0.0  \n...                       ...  \n71026                     0.0  \n71027                     0.0  \n71028                     0.0  \n71029                     1.0  \n71030                     0.0  \n\n[71031 rows x 54 columns]",
      "text/html": "<div>\n<style scoped>\n    .dataframe tbody tr th:only-of-type {\n        vertical-align: middle;\n    }\n\n    .dataframe tbody tr th {\n        vertical-align: top;\n    }\n\n    .dataframe thead th {\n        text-align: right;\n    }\n</style>\n<table border=\"1\" class=\"dataframe\">\n  <thead>\n    <tr style=\"text-align: right;\">\n      <th></th>\n      <th>days_to_depart</th>\n      <th>flight_day_of_week</th>\n      <th>isDeparture_time_6to18</th>\n      <th>isArriving_time_11to24</th>\n      <th>stops</th>\n      <th>travelDuration_h</th>\n      <th>elapsedDays</th>\n      <th>isBasicEconomy</th>\n      <th>isNonStop</th>\n      <th>seatsRemaining</th>\n      <th>...</th>\n      <th>class_first</th>\n      <th>class_first+coach</th>\n      <th>class_first+coach+first</th>\n      <th>class_premium coach</th>\n      <th>class_premium coach+coach</th>\n      <th>destinationAirport_ATL</th>\n      <th>destinationAirport_DFW</th>\n      <th>destinationAirport_JFK</th>\n      <th>destinationAirport_LAX</th>\n      <th>destinationAirport_ORD</th>\n    </tr>\n  </thead>\n  <tbody>\n    <tr>\n      <th>0</th>\n      <td>39.0</td>\n      <td>5.0</td>\n      <td>1.0</td>\n      <td>1.0</td>\n      <td>1.0</td>\n      <td>8.233333</td>\n      <td>0.0</td>\n      <td>1.0</td>\n      <td>0.0</td>\n      <td>7.0</td>\n      <td>...</td>\n      <td>0.0</td>\n      <td>0.0</td>\n      <td>0.0</td>\n      <td>0.0</td>\n      <td>0.0</td>\n      <td>0.0</td>\n      <td>0.0</td>\n      <td>0.0</td>\n      <td>1.0</td>\n      <td>0.0</td>\n    </tr>\n    <tr>\n      <th>1</th>\n      <td>21.0</td>\n      <td>1.0</td>\n      <td>1.0</td>\n      <td>1.0</td>\n      <td>0.0</td>\n      <td>3.100000</td>\n      <td>0.0</td>\n      <td>1.0</td>\n      <td>1.0</td>\n      <td>7.0</td>\n      <td>...</td>\n      <td>0.0</td>\n      <td>0.0</td>\n      <td>0.0</td>\n      <td>0.0</td>\n      <td>0.0</td>\n      <td>0.0</td>\n      <td>1.0</td>\n      <td>0.0</td>\n      <td>0.0</td>\n      <td>0.0</td>\n    </tr>\n    <tr>\n      <th>2</th>\n      <td>14.0</td>\n      <td>1.0</td>\n      <td>1.0</td>\n      <td>0.0</td>\n      <td>0.0</td>\n      <td>2.316667</td>\n      <td>0.0</td>\n      <td>0.0</td>\n      <td>1.0</td>\n      <td>0.0</td>\n      <td>...</td>\n      <td>0.0</td>\n      <td>0.0</td>\n      <td>0.0</td>\n      <td>0.0</td>\n      <td>0.0</td>\n      <td>0.0</td>\n      <td>0.0</td>\n      <td>0.0</td>\n      <td>0.0</td>\n      <td>1.0</td>\n    </tr>\n    <tr>\n      <th>3</th>\n      <td>21.0</td>\n      <td>1.0</td>\n      <td>1.0</td>\n      <td>1.0</td>\n      <td>2.0</td>\n      <td>10.150000</td>\n      <td>0.0</td>\n      <td>0.0</td>\n      <td>0.0</td>\n      <td>9.0</td>\n      <td>...</td>\n      <td>0.0</td>\n      <td>0.0</td>\n      <td>0.0</td>\n      <td>0.0</td>\n      <td>0.0</td>\n      <td>0.0</td>\n      <td>1.0</td>\n      <td>0.0</td>\n      <td>0.0</td>\n      <td>0.0</td>\n    </tr>\n    <tr>\n      <th>4</th>\n      <td>27.0</td>\n      <td>0.0</td>\n      <td>1.0</td>\n      <td>0.0</td>\n      <td>0.0</td>\n      <td>5.416667</td>\n      <td>1.0</td>\n      <td>0.0</td>\n      <td>1.0</td>\n      <td>9.0</td>\n      <td>...</td>\n      <td>0.0</td>\n      <td>0.0</td>\n      <td>0.0</td>\n      <td>0.0</td>\n      <td>0.0</td>\n      <td>0.0</td>\n      <td>0.0</td>\n      <td>1.0</td>\n      <td>0.0</td>\n      <td>0.0</td>\n    </tr>\n    <tr>\n      <th>...</th>\n      <td>...</td>\n      <td>...</td>\n      <td>...</td>\n      <td>...</td>\n      <td>...</td>\n      <td>...</td>\n      <td>...</td>\n      <td>...</td>\n      <td>...</td>\n      <td>...</td>\n      <td>...</td>\n      <td>...</td>\n      <td>...</td>\n      <td>...</td>\n      <td>...</td>\n      <td>...</td>\n      <td>...</td>\n      <td>...</td>\n      <td>...</td>\n      <td>...</td>\n      <td>...</td>\n    </tr>\n    <tr>\n      <th>71026</th>\n      <td>27.0</td>\n      <td>0.0</td>\n      <td>1.0</td>\n      <td>1.0</td>\n      <td>0.0</td>\n      <td>2.566667</td>\n      <td>0.0</td>\n      <td>0.0</td>\n      <td>1.0</td>\n      <td>7.0</td>\n      <td>...</td>\n      <td>0.0</td>\n      <td>0.0</td>\n      <td>0.0</td>\n      <td>0.0</td>\n      <td>0.0</td>\n      <td>1.0</td>\n      <td>0.0</td>\n      <td>0.0</td>\n      <td>0.0</td>\n      <td>0.0</td>\n    </tr>\n    <tr>\n      <th>71027</th>\n      <td>51.0</td>\n      <td>3.0</td>\n      <td>1.0</td>\n      <td>1.0</td>\n      <td>1.0</td>\n      <td>8.116667</td>\n      <td>0.0</td>\n      <td>0.0</td>\n      <td>0.0</td>\n      <td>3.0</td>\n      <td>...</td>\n      <td>0.0</td>\n      <td>0.0</td>\n      <td>0.0</td>\n      <td>0.0</td>\n      <td>0.0</td>\n      <td>1.0</td>\n      <td>0.0</td>\n      <td>0.0</td>\n      <td>0.0</td>\n      <td>0.0</td>\n    </tr>\n    <tr>\n      <th>71028</th>\n      <td>23.0</td>\n      <td>3.0</td>\n      <td>1.0</td>\n      <td>1.0</td>\n      <td>1.0</td>\n      <td>7.133333</td>\n      <td>0.0</td>\n      <td>0.0</td>\n      <td>0.0</td>\n      <td>5.0</td>\n      <td>...</td>\n      <td>0.0</td>\n      <td>0.0</td>\n      <td>0.0</td>\n      <td>0.0</td>\n      <td>0.0</td>\n      <td>0.0</td>\n      <td>1.0</td>\n      <td>0.0</td>\n      <td>0.0</td>\n      <td>0.0</td>\n    </tr>\n    <tr>\n      <th>71029</th>\n      <td>23.0</td>\n      <td>3.0</td>\n      <td>1.0</td>\n      <td>1.0</td>\n      <td>1.0</td>\n      <td>4.566667</td>\n      <td>0.0</td>\n      <td>0.0</td>\n      <td>0.0</td>\n      <td>2.0</td>\n      <td>...</td>\n      <td>0.0</td>\n      <td>0.0</td>\n      <td>0.0</td>\n      <td>0.0</td>\n      <td>0.0</td>\n      <td>0.0</td>\n      <td>0.0</td>\n      <td>0.0</td>\n      <td>0.0</td>\n      <td>1.0</td>\n    </tr>\n    <tr>\n      <th>71030</th>\n      <td>13.0</td>\n      <td>0.0</td>\n      <td>1.0</td>\n      <td>1.0</td>\n      <td>0.0</td>\n      <td>5.066667</td>\n      <td>0.0</td>\n      <td>0.0</td>\n      <td>1.0</td>\n      <td>4.0</td>\n      <td>...</td>\n      <td>0.0</td>\n      <td>0.0</td>\n      <td>0.0</td>\n      <td>0.0</td>\n      <td>0.0</td>\n      <td>0.0</td>\n      <td>0.0</td>\n      <td>0.0</td>\n      <td>1.0</td>\n      <td>0.0</td>\n    </tr>\n  </tbody>\n</table>\n<p>71031 rows × 54 columns</p>\n</div>"
     },
     "execution_count": 23,
     "metadata": {},
     "output_type": "execute_result"
    }
   ],
   "source": [
    "X_train_imputed"
   ],
   "metadata": {
    "collapsed": false
   }
  },
  {
   "cell_type": "code",
   "execution_count": 24,
   "outputs": [
    {
     "data": {
      "text/plain": "days_to_depart                     0\nflight_day_of_week                 0\nisDeparture_time_6to18             0\nisArriving_time_11to24             0\nstops                              0\ntravelDuration_h                   0\nelapsedDays                        0\nisBasicEconomy                     0\nisNonStop                          0\nseatsRemaining                     0\ntotalTravelDistance                0\ntotal_waiting_time                 0\nisTravel_dist_available            0\nairline_9K+UA                      0\nairline_9X+AA                      0\nairline_AA                         0\nairline_AA+9X                      0\nairline_AA+LF                      0\nairline_AS                         0\nairline_AS+DL                      0\nairline_AS+UA                      0\nairline_B6                         0\nairline_DL                         0\nairline_DL+AS                      0\nairline_DL+UA                      0\nairline_F9                         0\nairline_NK                         0\nairline_SY                         0\nairline_UA                         0\nairline_UA+9K                      0\nairline_UA+9X                      0\nairline_UA+AS                      0\nairline_UA+DL                      0\nstartingAirport_ATL                0\nstartingAirport_DFW                0\nstartingAirport_JFK                0\nstartingAirport_LAX                0\nstartingAirport_ORD                0\nclass_business                     0\nclass_coach                        0\nclass_coach+first                  0\nclass_coach+first+coach            0\nclass_coach+premium coach          0\nclass_coach+premium coach+coach    0\nclass_first                        0\nclass_first+coach                  0\nclass_first+coach+first            0\nclass_premium coach                0\nclass_premium coach+coach          0\ndestinationAirport_ATL             0\ndestinationAirport_DFW             0\ndestinationAirport_JFK             0\ndestinationAirport_LAX             0\ndestinationAirport_ORD             0\ndtype: int64"
     },
     "execution_count": 24,
     "metadata": {},
     "output_type": "execute_result"
    }
   ],
   "source": [
    "X_train_imputed.isna().sum()"
   ],
   "metadata": {
    "collapsed": false
   }
  },
  {
   "cell_type": "code",
   "execution_count": 25,
   "outputs": [],
   "source": [
    "Y_train = Y_train.reset_index(drop=True)\n",
    "Y_test = Y_test.reset_index(drop=True)"
   ],
   "metadata": {
    "collapsed": false
   }
  },
  {
   "cell_type": "code",
   "execution_count": 26,
   "outputs": [],
   "source": [
    "total_train = pd.concat([X_train_imputed,Y_train],axis=1)\n",
    "total_test = pd.concat([X_test_imputed,Y_test],axis=1)"
   ],
   "metadata": {
    "collapsed": false
   }
  },
  {
   "cell_type": "code",
   "execution_count": 27,
   "outputs": [
    {
     "data": {
      "text/plain": "       days_to_depart  flight_day_of_week  isDeparture_time_6to18  \\\n0                39.0                 5.0                     1.0   \n1                21.0                 1.0                     1.0   \n2                14.0                 1.0                     1.0   \n3                21.0                 1.0                     1.0   \n4                27.0                 0.0                     1.0   \n...               ...                 ...                     ...   \n71026            27.0                 0.0                     1.0   \n71027            51.0                 3.0                     1.0   \n71028            23.0                 3.0                     1.0   \n71029            23.0                 3.0                     1.0   \n71030            13.0                 0.0                     1.0   \n\n       isArriving_time_11to24  stops  travelDuration_h  elapsedDays  \\\n0                         1.0    1.0          8.233333          0.0   \n1                         1.0    0.0          3.100000          0.0   \n2                         0.0    0.0          2.316667          0.0   \n3                         1.0    2.0         10.150000          0.0   \n4                         0.0    0.0          5.416667          1.0   \n...                       ...    ...               ...          ...   \n71026                     1.0    0.0          2.566667          0.0   \n71027                     1.0    1.0          8.116667          0.0   \n71028                     1.0    1.0          7.133333          0.0   \n71029                     1.0    1.0          4.566667          0.0   \n71030                     1.0    0.0          5.066667          0.0   \n\n       isBasicEconomy  isNonStop  seatsRemaining  ...  \\\n0                 1.0        0.0             7.0  ...   \n1                 1.0        1.0             7.0  ...   \n2                 0.0        1.0             0.0  ...   \n3                 0.0        0.0             9.0  ...   \n4                 0.0        1.0             9.0  ...   \n...               ...        ...             ...  ...   \n71026             0.0        1.0             7.0  ...   \n71027             0.0        0.0             3.0  ...   \n71028             0.0        0.0             5.0  ...   \n71029             0.0        0.0             2.0  ...   \n71030             0.0        1.0             4.0  ...   \n\n       class_first+coach+first  class_premium coach  \\\n0                          0.0                  0.0   \n1                          0.0                  0.0   \n2                          0.0                  0.0   \n3                          0.0                  0.0   \n4                          0.0                  0.0   \n...                        ...                  ...   \n71026                      0.0                  0.0   \n71027                      0.0                  0.0   \n71028                      0.0                  0.0   \n71029                      0.0                  0.0   \n71030                      0.0                  0.0   \n\n       class_premium coach+coach  destinationAirport_ATL  \\\n0                            0.0                     0.0   \n1                            0.0                     0.0   \n2                            0.0                     0.0   \n3                            0.0                     0.0   \n4                            0.0                     0.0   \n...                          ...                     ...   \n71026                        0.0                     1.0   \n71027                        0.0                     1.0   \n71028                        0.0                     0.0   \n71029                        0.0                     0.0   \n71030                        0.0                     0.0   \n\n       destinationAirport_DFW  destinationAirport_JFK  destinationAirport_LAX  \\\n0                         0.0                     0.0                     1.0   \n1                         1.0                     0.0                     0.0   \n2                         0.0                     0.0                     0.0   \n3                         1.0                     0.0                     0.0   \n4                         0.0                     1.0                     0.0   \n...                       ...                     ...                     ...   \n71026                     0.0                     0.0                     0.0   \n71027                     0.0                     0.0                     0.0   \n71028                     1.0                     0.0                     0.0   \n71029                     0.0                     0.0                     0.0   \n71030                     0.0                     0.0                     1.0   \n\n       destinationAirport_ORD  baseFare  totalFare  \n0                         0.0    143.26     176.71  \n1                         0.0    124.65     148.90  \n2                         1.0     56.00     112.89  \n3                         0.0    486.52     552.01  \n4                         0.0    487.44     538.90  \n...                       ...       ...        ...  \n71026                     0.0     73.49      93.90  \n71027                     0.0    358.14     409.20  \n71028                     0.0    232.56     274.20  \n71029                     1.0    254.88     298.20  \n71030                     0.0    403.72     448.90  \n\n[71031 rows x 56 columns]",
      "text/html": "<div>\n<style scoped>\n    .dataframe tbody tr th:only-of-type {\n        vertical-align: middle;\n    }\n\n    .dataframe tbody tr th {\n        vertical-align: top;\n    }\n\n    .dataframe thead th {\n        text-align: right;\n    }\n</style>\n<table border=\"1\" class=\"dataframe\">\n  <thead>\n    <tr style=\"text-align: right;\">\n      <th></th>\n      <th>days_to_depart</th>\n      <th>flight_day_of_week</th>\n      <th>isDeparture_time_6to18</th>\n      <th>isArriving_time_11to24</th>\n      <th>stops</th>\n      <th>travelDuration_h</th>\n      <th>elapsedDays</th>\n      <th>isBasicEconomy</th>\n      <th>isNonStop</th>\n      <th>seatsRemaining</th>\n      <th>...</th>\n      <th>class_first+coach+first</th>\n      <th>class_premium coach</th>\n      <th>class_premium coach+coach</th>\n      <th>destinationAirport_ATL</th>\n      <th>destinationAirport_DFW</th>\n      <th>destinationAirport_JFK</th>\n      <th>destinationAirport_LAX</th>\n      <th>destinationAirport_ORD</th>\n      <th>baseFare</th>\n      <th>totalFare</th>\n    </tr>\n  </thead>\n  <tbody>\n    <tr>\n      <th>0</th>\n      <td>39.0</td>\n      <td>5.0</td>\n      <td>1.0</td>\n      <td>1.0</td>\n      <td>1.0</td>\n      <td>8.233333</td>\n      <td>0.0</td>\n      <td>1.0</td>\n      <td>0.0</td>\n      <td>7.0</td>\n      <td>...</td>\n      <td>0.0</td>\n      <td>0.0</td>\n      <td>0.0</td>\n      <td>0.0</td>\n      <td>0.0</td>\n      <td>0.0</td>\n      <td>1.0</td>\n      <td>0.0</td>\n      <td>143.26</td>\n      <td>176.71</td>\n    </tr>\n    <tr>\n      <th>1</th>\n      <td>21.0</td>\n      <td>1.0</td>\n      <td>1.0</td>\n      <td>1.0</td>\n      <td>0.0</td>\n      <td>3.100000</td>\n      <td>0.0</td>\n      <td>1.0</td>\n      <td>1.0</td>\n      <td>7.0</td>\n      <td>...</td>\n      <td>0.0</td>\n      <td>0.0</td>\n      <td>0.0</td>\n      <td>0.0</td>\n      <td>1.0</td>\n      <td>0.0</td>\n      <td>0.0</td>\n      <td>0.0</td>\n      <td>124.65</td>\n      <td>148.90</td>\n    </tr>\n    <tr>\n      <th>2</th>\n      <td>14.0</td>\n      <td>1.0</td>\n      <td>1.0</td>\n      <td>0.0</td>\n      <td>0.0</td>\n      <td>2.316667</td>\n      <td>0.0</td>\n      <td>0.0</td>\n      <td>1.0</td>\n      <td>0.0</td>\n      <td>...</td>\n      <td>0.0</td>\n      <td>0.0</td>\n      <td>0.0</td>\n      <td>0.0</td>\n      <td>0.0</td>\n      <td>0.0</td>\n      <td>0.0</td>\n      <td>1.0</td>\n      <td>56.00</td>\n      <td>112.89</td>\n    </tr>\n    <tr>\n      <th>3</th>\n      <td>21.0</td>\n      <td>1.0</td>\n      <td>1.0</td>\n      <td>1.0</td>\n      <td>2.0</td>\n      <td>10.150000</td>\n      <td>0.0</td>\n      <td>0.0</td>\n      <td>0.0</td>\n      <td>9.0</td>\n      <td>...</td>\n      <td>0.0</td>\n      <td>0.0</td>\n      <td>0.0</td>\n      <td>0.0</td>\n      <td>1.0</td>\n      <td>0.0</td>\n      <td>0.0</td>\n      <td>0.0</td>\n      <td>486.52</td>\n      <td>552.01</td>\n    </tr>\n    <tr>\n      <th>4</th>\n      <td>27.0</td>\n      <td>0.0</td>\n      <td>1.0</td>\n      <td>0.0</td>\n      <td>0.0</td>\n      <td>5.416667</td>\n      <td>1.0</td>\n      <td>0.0</td>\n      <td>1.0</td>\n      <td>9.0</td>\n      <td>...</td>\n      <td>0.0</td>\n      <td>0.0</td>\n      <td>0.0</td>\n      <td>0.0</td>\n      <td>0.0</td>\n      <td>1.0</td>\n      <td>0.0</td>\n      <td>0.0</td>\n      <td>487.44</td>\n      <td>538.90</td>\n    </tr>\n    <tr>\n      <th>...</th>\n      <td>...</td>\n      <td>...</td>\n      <td>...</td>\n      <td>...</td>\n      <td>...</td>\n      <td>...</td>\n      <td>...</td>\n      <td>...</td>\n      <td>...</td>\n      <td>...</td>\n      <td>...</td>\n      <td>...</td>\n      <td>...</td>\n      <td>...</td>\n      <td>...</td>\n      <td>...</td>\n      <td>...</td>\n      <td>...</td>\n      <td>...</td>\n      <td>...</td>\n      <td>...</td>\n    </tr>\n    <tr>\n      <th>71026</th>\n      <td>27.0</td>\n      <td>0.0</td>\n      <td>1.0</td>\n      <td>1.0</td>\n      <td>0.0</td>\n      <td>2.566667</td>\n      <td>0.0</td>\n      <td>0.0</td>\n      <td>1.0</td>\n      <td>7.0</td>\n      <td>...</td>\n      <td>0.0</td>\n      <td>0.0</td>\n      <td>0.0</td>\n      <td>1.0</td>\n      <td>0.0</td>\n      <td>0.0</td>\n      <td>0.0</td>\n      <td>0.0</td>\n      <td>73.49</td>\n      <td>93.90</td>\n    </tr>\n    <tr>\n      <th>71027</th>\n      <td>51.0</td>\n      <td>3.0</td>\n      <td>1.0</td>\n      <td>1.0</td>\n      <td>1.0</td>\n      <td>8.116667</td>\n      <td>0.0</td>\n      <td>0.0</td>\n      <td>0.0</td>\n      <td>3.0</td>\n      <td>...</td>\n      <td>0.0</td>\n      <td>0.0</td>\n      <td>0.0</td>\n      <td>1.0</td>\n      <td>0.0</td>\n      <td>0.0</td>\n      <td>0.0</td>\n      <td>0.0</td>\n      <td>358.14</td>\n      <td>409.20</td>\n    </tr>\n    <tr>\n      <th>71028</th>\n      <td>23.0</td>\n      <td>3.0</td>\n      <td>1.0</td>\n      <td>1.0</td>\n      <td>1.0</td>\n      <td>7.133333</td>\n      <td>0.0</td>\n      <td>0.0</td>\n      <td>0.0</td>\n      <td>5.0</td>\n      <td>...</td>\n      <td>0.0</td>\n      <td>0.0</td>\n      <td>0.0</td>\n      <td>0.0</td>\n      <td>1.0</td>\n      <td>0.0</td>\n      <td>0.0</td>\n      <td>0.0</td>\n      <td>232.56</td>\n      <td>274.20</td>\n    </tr>\n    <tr>\n      <th>71029</th>\n      <td>23.0</td>\n      <td>3.0</td>\n      <td>1.0</td>\n      <td>1.0</td>\n      <td>1.0</td>\n      <td>4.566667</td>\n      <td>0.0</td>\n      <td>0.0</td>\n      <td>0.0</td>\n      <td>2.0</td>\n      <td>...</td>\n      <td>0.0</td>\n      <td>0.0</td>\n      <td>0.0</td>\n      <td>0.0</td>\n      <td>0.0</td>\n      <td>0.0</td>\n      <td>0.0</td>\n      <td>1.0</td>\n      <td>254.88</td>\n      <td>298.20</td>\n    </tr>\n    <tr>\n      <th>71030</th>\n      <td>13.0</td>\n      <td>0.0</td>\n      <td>1.0</td>\n      <td>1.0</td>\n      <td>0.0</td>\n      <td>5.066667</td>\n      <td>0.0</td>\n      <td>0.0</td>\n      <td>1.0</td>\n      <td>4.0</td>\n      <td>...</td>\n      <td>0.0</td>\n      <td>0.0</td>\n      <td>0.0</td>\n      <td>0.0</td>\n      <td>0.0</td>\n      <td>0.0</td>\n      <td>1.0</td>\n      <td>0.0</td>\n      <td>403.72</td>\n      <td>448.90</td>\n    </tr>\n  </tbody>\n</table>\n<p>71031 rows × 56 columns</p>\n</div>"
     },
     "execution_count": 27,
     "metadata": {},
     "output_type": "execute_result"
    }
   ],
   "source": [
    "total_train"
   ],
   "metadata": {
    "collapsed": false
   }
  },
  {
   "cell_type": "code",
   "execution_count": 28,
   "outputs": [
    {
     "data": {
      "text/plain": "       days_to_depart  flight_day_of_week  isDeparture_time_6to18  \\\n0                44.0                 3.0                     0.0   \n1                44.0                 3.0                     1.0   \n2                44.0                 3.0                     0.0   \n3                44.0                 3.0                     1.0   \n4                44.0                 3.0                     1.0   \n...               ...                 ...                     ...   \n17753            53.0                 5.0                     1.0   \n17754            53.0                 5.0                     1.0   \n17755            53.0                 5.0                     1.0   \n17756            53.0                 5.0                     0.0   \n17757            53.0                 5.0                     1.0   \n\n       isArriving_time_11to24  stops  travelDuration_h  elapsedDays  \\\n0                         0.0    1.0          6.383333          1.0   \n1                         0.0    1.0         13.133333          1.0   \n2                         0.0    1.0          6.133333          1.0   \n3                         0.0    1.0         11.666667          1.0   \n4                         1.0    0.0          4.083333          0.0   \n...                       ...    ...               ...          ...   \n17753                     1.0    1.0         15.566667          0.0   \n17754                     1.0    1.0          5.600000          0.0   \n17755                     1.0    1.0          5.850000          0.0   \n17756                     1.0    0.0          2.066667          0.0   \n17757                     1.0    1.0          5.783333          0.0   \n\n       isBasicEconomy  isNonStop  seatsRemaining  ...  \\\n0                 0.0        0.0             0.0  ...   \n1                 0.0        0.0             0.0  ...   \n2                 1.0        0.0             7.0  ...   \n3                 0.0        0.0             0.0  ...   \n4                 0.0        1.0             7.0  ...   \n...               ...        ...             ...  ...   \n17753             0.0        0.0             0.0  ...   \n17754             1.0        0.0             7.0  ...   \n17755             1.0        0.0             9.0  ...   \n17756             0.0        1.0             9.0  ...   \n17757             0.0        0.0             7.0  ...   \n\n       class_first+coach+first  class_premium coach  \\\n0                          0.0                  0.0   \n1                          0.0                  0.0   \n2                          0.0                  0.0   \n3                          0.0                  0.0   \n4                          0.0                  0.0   \n...                        ...                  ...   \n17753                      0.0                  0.0   \n17754                      0.0                  0.0   \n17755                      0.0                  0.0   \n17756                      0.0                  0.0   \n17757                      0.0                  0.0   \n\n       class_premium coach+coach  destinationAirport_ATL  \\\n0                            0.0                     0.0   \n1                            0.0                     0.0   \n2                            0.0                     0.0   \n3                            0.0                     0.0   \n4                            0.0                     0.0   \n...                          ...                     ...   \n17753                        0.0                     0.0   \n17754                        0.0                     0.0   \n17755                        0.0                     0.0   \n17756                        0.0                     0.0   \n17757                        0.0                     0.0   \n\n       destinationAirport_DFW  destinationAirport_JFK  destinationAirport_LAX  \\\n0                         0.0                     0.0                     0.0   \n1                         0.0                     0.0                     0.0   \n2                         0.0                     0.0                     0.0   \n3                         0.0                     0.0                     0.0   \n4                         0.0                     0.0                     0.0   \n...                       ...                     ...                     ...   \n17753                     0.0                     0.0                     0.0   \n17754                     0.0                     0.0                     0.0   \n17755                     0.0                     0.0                     0.0   \n17756                     0.0                     0.0                     0.0   \n17757                     0.0                     0.0                     0.0   \n\n       destinationAirport_ORD  baseFare  totalFare  \n0                         1.0     56.11     126.29  \n1                         1.0     67.00     137.18  \n2                         1.0    143.26     178.21  \n3                         1.0     73.00     181.18  \n4                         1.0    191.63     220.90  \n...                       ...       ...        ...  \n17753                     1.0     11.00     119.18  \n17754                     1.0    132.09     166.20  \n17755                     1.0    143.26     178.21  \n17756                     1.0    175.81     203.90  \n17757                     1.0    175.81     213.20  \n\n[17758 rows x 56 columns]",
      "text/html": "<div>\n<style scoped>\n    .dataframe tbody tr th:only-of-type {\n        vertical-align: middle;\n    }\n\n    .dataframe tbody tr th {\n        vertical-align: top;\n    }\n\n    .dataframe thead th {\n        text-align: right;\n    }\n</style>\n<table border=\"1\" class=\"dataframe\">\n  <thead>\n    <tr style=\"text-align: right;\">\n      <th></th>\n      <th>days_to_depart</th>\n      <th>flight_day_of_week</th>\n      <th>isDeparture_time_6to18</th>\n      <th>isArriving_time_11to24</th>\n      <th>stops</th>\n      <th>travelDuration_h</th>\n      <th>elapsedDays</th>\n      <th>isBasicEconomy</th>\n      <th>isNonStop</th>\n      <th>seatsRemaining</th>\n      <th>...</th>\n      <th>class_first+coach+first</th>\n      <th>class_premium coach</th>\n      <th>class_premium coach+coach</th>\n      <th>destinationAirport_ATL</th>\n      <th>destinationAirport_DFW</th>\n      <th>destinationAirport_JFK</th>\n      <th>destinationAirport_LAX</th>\n      <th>destinationAirport_ORD</th>\n      <th>baseFare</th>\n      <th>totalFare</th>\n    </tr>\n  </thead>\n  <tbody>\n    <tr>\n      <th>0</th>\n      <td>44.0</td>\n      <td>3.0</td>\n      <td>0.0</td>\n      <td>0.0</td>\n      <td>1.0</td>\n      <td>6.383333</td>\n      <td>1.0</td>\n      <td>0.0</td>\n      <td>0.0</td>\n      <td>0.0</td>\n      <td>...</td>\n      <td>0.0</td>\n      <td>0.0</td>\n      <td>0.0</td>\n      <td>0.0</td>\n      <td>0.0</td>\n      <td>0.0</td>\n      <td>0.0</td>\n      <td>1.0</td>\n      <td>56.11</td>\n      <td>126.29</td>\n    </tr>\n    <tr>\n      <th>1</th>\n      <td>44.0</td>\n      <td>3.0</td>\n      <td>1.0</td>\n      <td>0.0</td>\n      <td>1.0</td>\n      <td>13.133333</td>\n      <td>1.0</td>\n      <td>0.0</td>\n      <td>0.0</td>\n      <td>0.0</td>\n      <td>...</td>\n      <td>0.0</td>\n      <td>0.0</td>\n      <td>0.0</td>\n      <td>0.0</td>\n      <td>0.0</td>\n      <td>0.0</td>\n      <td>0.0</td>\n      <td>1.0</td>\n      <td>67.00</td>\n      <td>137.18</td>\n    </tr>\n    <tr>\n      <th>2</th>\n      <td>44.0</td>\n      <td>3.0</td>\n      <td>0.0</td>\n      <td>0.0</td>\n      <td>1.0</td>\n      <td>6.133333</td>\n      <td>1.0</td>\n      <td>1.0</td>\n      <td>0.0</td>\n      <td>7.0</td>\n      <td>...</td>\n      <td>0.0</td>\n      <td>0.0</td>\n      <td>0.0</td>\n      <td>0.0</td>\n      <td>0.0</td>\n      <td>0.0</td>\n      <td>0.0</td>\n      <td>1.0</td>\n      <td>143.26</td>\n      <td>178.21</td>\n    </tr>\n    <tr>\n      <th>3</th>\n      <td>44.0</td>\n      <td>3.0</td>\n      <td>1.0</td>\n      <td>0.0</td>\n      <td>1.0</td>\n      <td>11.666667</td>\n      <td>1.0</td>\n      <td>0.0</td>\n      <td>0.0</td>\n      <td>0.0</td>\n      <td>...</td>\n      <td>0.0</td>\n      <td>0.0</td>\n      <td>0.0</td>\n      <td>0.0</td>\n      <td>0.0</td>\n      <td>0.0</td>\n      <td>0.0</td>\n      <td>1.0</td>\n      <td>73.00</td>\n      <td>181.18</td>\n    </tr>\n    <tr>\n      <th>4</th>\n      <td>44.0</td>\n      <td>3.0</td>\n      <td>1.0</td>\n      <td>1.0</td>\n      <td>0.0</td>\n      <td>4.083333</td>\n      <td>0.0</td>\n      <td>0.0</td>\n      <td>1.0</td>\n      <td>7.0</td>\n      <td>...</td>\n      <td>0.0</td>\n      <td>0.0</td>\n      <td>0.0</td>\n      <td>0.0</td>\n      <td>0.0</td>\n      <td>0.0</td>\n      <td>0.0</td>\n      <td>1.0</td>\n      <td>191.63</td>\n      <td>220.90</td>\n    </tr>\n    <tr>\n      <th>...</th>\n      <td>...</td>\n      <td>...</td>\n      <td>...</td>\n      <td>...</td>\n      <td>...</td>\n      <td>...</td>\n      <td>...</td>\n      <td>...</td>\n      <td>...</td>\n      <td>...</td>\n      <td>...</td>\n      <td>...</td>\n      <td>...</td>\n      <td>...</td>\n      <td>...</td>\n      <td>...</td>\n      <td>...</td>\n      <td>...</td>\n      <td>...</td>\n      <td>...</td>\n      <td>...</td>\n    </tr>\n    <tr>\n      <th>17753</th>\n      <td>53.0</td>\n      <td>5.0</td>\n      <td>1.0</td>\n      <td>1.0</td>\n      <td>1.0</td>\n      <td>15.566667</td>\n      <td>0.0</td>\n      <td>0.0</td>\n      <td>0.0</td>\n      <td>0.0</td>\n      <td>...</td>\n      <td>0.0</td>\n      <td>0.0</td>\n      <td>0.0</td>\n      <td>0.0</td>\n      <td>0.0</td>\n      <td>0.0</td>\n      <td>0.0</td>\n      <td>1.0</td>\n      <td>11.00</td>\n      <td>119.18</td>\n    </tr>\n    <tr>\n      <th>17754</th>\n      <td>53.0</td>\n      <td>5.0</td>\n      <td>1.0</td>\n      <td>1.0</td>\n      <td>1.0</td>\n      <td>5.600000</td>\n      <td>0.0</td>\n      <td>1.0</td>\n      <td>0.0</td>\n      <td>7.0</td>\n      <td>...</td>\n      <td>0.0</td>\n      <td>0.0</td>\n      <td>0.0</td>\n      <td>0.0</td>\n      <td>0.0</td>\n      <td>0.0</td>\n      <td>0.0</td>\n      <td>1.0</td>\n      <td>132.09</td>\n      <td>166.20</td>\n    </tr>\n    <tr>\n      <th>17755</th>\n      <td>53.0</td>\n      <td>5.0</td>\n      <td>1.0</td>\n      <td>1.0</td>\n      <td>1.0</td>\n      <td>5.850000</td>\n      <td>0.0</td>\n      <td>1.0</td>\n      <td>0.0</td>\n      <td>9.0</td>\n      <td>...</td>\n      <td>0.0</td>\n      <td>0.0</td>\n      <td>0.0</td>\n      <td>0.0</td>\n      <td>0.0</td>\n      <td>0.0</td>\n      <td>0.0</td>\n      <td>1.0</td>\n      <td>143.26</td>\n      <td>178.21</td>\n    </tr>\n    <tr>\n      <th>17756</th>\n      <td>53.0</td>\n      <td>5.0</td>\n      <td>0.0</td>\n      <td>1.0</td>\n      <td>0.0</td>\n      <td>2.066667</td>\n      <td>0.0</td>\n      <td>0.0</td>\n      <td>1.0</td>\n      <td>9.0</td>\n      <td>...</td>\n      <td>0.0</td>\n      <td>0.0</td>\n      <td>0.0</td>\n      <td>0.0</td>\n      <td>0.0</td>\n      <td>0.0</td>\n      <td>0.0</td>\n      <td>1.0</td>\n      <td>175.81</td>\n      <td>203.90</td>\n    </tr>\n    <tr>\n      <th>17757</th>\n      <td>53.0</td>\n      <td>5.0</td>\n      <td>1.0</td>\n      <td>1.0</td>\n      <td>1.0</td>\n      <td>5.783333</td>\n      <td>0.0</td>\n      <td>0.0</td>\n      <td>0.0</td>\n      <td>7.0</td>\n      <td>...</td>\n      <td>0.0</td>\n      <td>0.0</td>\n      <td>0.0</td>\n      <td>0.0</td>\n      <td>0.0</td>\n      <td>0.0</td>\n      <td>0.0</td>\n      <td>1.0</td>\n      <td>175.81</td>\n      <td>213.20</td>\n    </tr>\n  </tbody>\n</table>\n<p>17758 rows × 56 columns</p>\n</div>"
     },
     "execution_count": 28,
     "metadata": {},
     "output_type": "execute_result"
    }
   ],
   "source": [
    "total_test"
   ],
   "metadata": {
    "collapsed": false
   }
  },
  {
   "cell_type": "code",
   "execution_count": 30,
   "outputs": [],
   "source": [
    "# total_train.to_csv('data/train.csv',index=False)\n",
    "# total_test.to_csv('data/test.csv',index=False)"
   ],
   "metadata": {
    "collapsed": false
   }
  },
  {
   "cell_type": "markdown",
   "source": [
    "Based on the feature importance and data distribution, we also need to reconsider the features. See Modeling part1 for more details on discussion."
   ],
   "metadata": {
    "collapsed": false
   }
  },
  {
   "cell_type": "code",
   "execution_count": null,
   "outputs": [],
   "source": [],
   "metadata": {
    "collapsed": false
   }
  }
 ],
 "metadata": {
  "kernelspec": {
   "display_name": "Python 3",
   "language": "python",
   "name": "python3"
  },
  "language_info": {
   "codemirror_mode": {
    "name": "ipython",
    "version": 2
   },
   "file_extension": ".py",
   "mimetype": "text/x-python",
   "name": "python",
   "nbconvert_exporter": "python",
   "pygments_lexer": "ipython2",
   "version": "2.7.6"
  }
 },
 "nbformat": 4,
 "nbformat_minor": 0
}
